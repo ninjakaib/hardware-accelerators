{
 "cells": [
  {
   "cell_type": "code",
   "execution_count": 10,
   "metadata": {},
   "outputs": [],
   "source": [
    "import os\n",
    "import json\n",
    "import pandas as pd\n",
    "from glob import glob\n",
    "\n",
    "def json_files_to_dataframe(folder_path):\n",
    "    \"\"\"\n",
    "    Reads all JSON files in a folder and converts them to a single pandas DataFrame,\n",
    "    using filenames as the DataFrame indices.\n",
    "    \n",
    "    Parameters:\n",
    "    folder_path (str): Path to the folder containing JSON files\n",
    "    \n",
    "    Returns:\n",
    "    pandas.DataFrame: Combined DataFrame from all JSON files with filenames as indices\n",
    "    \"\"\"\n",
    "    # Get all JSON files in the folder\n",
    "    json_files = glob(os.path.join(folder_path, \"*.json\"))\n",
    "    \n",
    "    if not json_files:\n",
    "        raise ValueError(f\"No JSON files found in {folder_path}\")\n",
    "    \n",
    "    # Dictionary to store data from each file, with filenames as keys\n",
    "    data_dict = {}\n",
    "    \n",
    "    # Process each JSON file\n",
    "    for file_path in json_files:\n",
    "        # Extract filename as the index\n",
    "        file_id = os.path.basename(file_path).replace('.json', '')\n",
    "        \n",
    "        # Read the JSON file\n",
    "        with open(file_path, 'r') as f:\n",
    "            data = json.load(f)\n",
    "        \n",
    "        # Store data with filename as key\n",
    "        data_dict[file_id] = data\n",
    "    \n",
    "    # Convert dictionary to DataFrame, using keys as indices\n",
    "    df = pd.DataFrame.from_dict(data_dict, orient='index')\n",
    "    \n",
    "    return df"
   ]
  },
  {
   "cell_type": "code",
   "execution_count": 11,
   "metadata": {},
   "outputs": [],
   "source": [
    "df = json_files_to_dataframe(\"verilog/reports\")"
   ]
  },
  {
   "cell_type": "code",
   "execution_count": 14,
   "metadata": {},
   "outputs": [
    {
     "data": {
      "text/plain": [
       "(72, 2)"
      ]
     },
     "execution_count": 14,
     "metadata": {},
     "output_type": "execute_result"
    }
   ],
   "source": [
    "df.shape"
   ]
  },
  {
   "cell_type": "code",
   "execution_count": null,
   "metadata": {},
   "outputs": [],
   "source": []
  }
 ],
 "metadata": {
  "kernelspec": {
   "display_name": "capstone2",
   "language": "python",
   "name": "python3"
  },
  "language_info": {
   "codemirror_mode": {
    "name": "ipython",
    "version": 3
   },
   "file_extension": ".py",
   "mimetype": "text/x-python",
   "name": "python",
   "nbconvert_exporter": "python",
   "pygments_lexer": "ipython3",
   "version": "3.12.8"
  }
 },
 "nbformat": 4,
 "nbformat_minor": 2
}
