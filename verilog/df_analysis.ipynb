{
 "cells": [
  {
   "cell_type": "code",
   "execution_count": 17,
   "metadata": {},
   "outputs": [],
   "source": [
    "import os\n",
    "import json\n",
    "import pandas as pd\n",
    "from glob import glob\n",
    "\n",
    "def json_files_to_dataframe(folder_path):\n",
    "    \"\"\"\n",
    "    Reads all JSON files in a folder and converts them to a single pandas DataFrame,\n",
    "    using filenames as the DataFrame indices.\n",
    "    \n",
    "    Parameters:\n",
    "    folder_path (str): Path to the folder containing JSON files\n",
    "    \n",
    "    Returns:\n",
    "    pandas.DataFrame: Combined DataFrame from all JSON files with filenames as indices\n",
    "    \"\"\"\n",
    "    # Get all JSON files in the folder\n",
    "    json_files = glob(os.path.join(folder_path, \"*.json\"))\n",
    "    \n",
    "    if not json_files:\n",
    "        raise ValueError(f\"No JSON files found in {folder_path}\")\n",
    "    \n",
    "    # Dictionary to store data from each file, with filenames as keys\n",
    "    data_dict = {}\n",
    "    \n",
    "    # Process each JSON file\n",
    "    for file_path in json_files:\n",
    "        # Extract filename as the index\n",
    "        file_id = os.path.basename(file_path).replace('.json', '')\n",
    "        \n",
    "        # Read the JSON file\n",
    "        with open(file_path, 'r') as f:\n",
    "            data = json.load(f)\n",
    "        \n",
    "        # Store data with filename as key\n",
    "        data_dict[file_id] = data\n",
    "    \n",
    "    # Convert dictionary to DataFrame, using keys as indices\n",
    "    df = pd.DataFrame.from_dict(data_dict, orient='index')\n",
    "    \n",
    "    return df"
   ]
  },
  {
   "cell_type": "code",
   "execution_count": 18,
   "metadata": {},
   "outputs": [],
   "source": [
    "df = json_files_to_dataframe(\"verilog/reports\")"
   ]
  },
  {
   "cell_type": "code",
   "execution_count": 22,
   "metadata": {},
   "outputs": [],
   "source": [
    "df2 = df[[\"finish__design__instance__area\", \"finish__power__total\", \"finish__timing__setup__ws\"]]\n"
   ]
  },
  {
   "cell_type": "code",
   "execution_count": 23,
   "metadata": {},
   "outputs": [
    {
     "data": {
      "text/html": [
       "<div>\n",
       "<style scoped>\n",
       "    .dataframe tbody tr th:only-of-type {\n",
       "        vertical-align: middle;\n",
       "    }\n",
       "\n",
       "    .dataframe tbody tr th {\n",
       "        vertical-align: top;\n",
       "    }\n",
       "\n",
       "    .dataframe thead th {\n",
       "        text-align: right;\n",
       "    }\n",
       "</style>\n",
       "<table border=\"1\" class=\"dataframe\">\n",
       "  <thead>\n",
       "    <tr style=\"text-align: right;\">\n",
       "      <th></th>\n",
       "      <th>finish__design__instance__area</th>\n",
       "      <th>finish__power__total</th>\n",
       "      <th>finish__timing__setup__ws</th>\n",
       "    </tr>\n",
       "  </thead>\n",
       "  <tbody>\n",
       "    <tr>\n",
       "      <th>adder_combinational_bf16_report</th>\n",
       "      <td>1032.880</td>\n",
       "      <td>0.001745</td>\n",
       "      <td>1.000000e+39</td>\n",
       "    </tr>\n",
       "    <tr>\n",
       "      <th>adder_combinational_fast_bf16_report</th>\n",
       "      <td>927.542</td>\n",
       "      <td>0.001954</td>\n",
       "      <td>1.000000e+39</td>\n",
       "    </tr>\n",
       "    <tr>\n",
       "      <th>adder_combinational_fast_fp32_report</th>\n",
       "      <td>2886.370</td>\n",
       "      <td>0.010806</td>\n",
       "      <td>1.000000e+39</td>\n",
       "    </tr>\n",
       "    <tr>\n",
       "      <th>adder_combinational_fast_fp8_report</th>\n",
       "      <td>510.188</td>\n",
       "      <td>0.001988</td>\n",
       "      <td>1.000000e+39</td>\n",
       "    </tr>\n",
       "    <tr>\n",
       "      <th>adder_combinational_fp32_report</th>\n",
       "      <td>3230.040</td>\n",
       "      <td>0.005949</td>\n",
       "      <td>1.000000e+39</td>\n",
       "    </tr>\n",
       "    <tr>\n",
       "      <th>...</th>\n",
       "      <td>...</td>\n",
       "      <td>...</td>\n",
       "      <td>...</td>\n",
       "    </tr>\n",
       "    <tr>\n",
       "      <th>multiplier_stage_4_fast_bf16_report</th>\n",
       "      <td>352.982</td>\n",
       "      <td>0.000216</td>\n",
       "      <td>1.000000e+39</td>\n",
       "    </tr>\n",
       "    <tr>\n",
       "      <th>multiplier_stage_4_fast_fp32_report</th>\n",
       "      <td>1253.660</td>\n",
       "      <td>0.000553</td>\n",
       "      <td>1.000000e+39</td>\n",
       "    </tr>\n",
       "    <tr>\n",
       "      <th>multiplier_stage_4_fast_fp8_report</th>\n",
       "      <td>160.132</td>\n",
       "      <td>0.000118</td>\n",
       "      <td>1.000000e+39</td>\n",
       "    </tr>\n",
       "    <tr>\n",
       "      <th>multiplier_stage_4_fp32_report</th>\n",
       "      <td>1285.580</td>\n",
       "      <td>0.000568</td>\n",
       "      <td>1.000000e+39</td>\n",
       "    </tr>\n",
       "    <tr>\n",
       "      <th>multiplier_stage_4_fp8_report</th>\n",
       "      <td>148.162</td>\n",
       "      <td>0.000097</td>\n",
       "      <td>1.000000e+39</td>\n",
       "    </tr>\n",
       "  </tbody>\n",
       "</table>\n",
       "<p>72 rows × 3 columns</p>\n",
       "</div>"
      ],
      "text/plain": [
       "                                      finish__design__instance__area  \\\n",
       "adder_combinational_bf16_report                             1032.880   \n",
       "adder_combinational_fast_bf16_report                         927.542   \n",
       "adder_combinational_fast_fp32_report                        2886.370   \n",
       "adder_combinational_fast_fp8_report                          510.188   \n",
       "adder_combinational_fp32_report                             3230.040   \n",
       "...                                                              ...   \n",
       "multiplier_stage_4_fast_bf16_report                          352.982   \n",
       "multiplier_stage_4_fast_fp32_report                         1253.660   \n",
       "multiplier_stage_4_fast_fp8_report                           160.132   \n",
       "multiplier_stage_4_fp32_report                              1285.580   \n",
       "multiplier_stage_4_fp8_report                                148.162   \n",
       "\n",
       "                                      finish__power__total  \\\n",
       "adder_combinational_bf16_report                   0.001745   \n",
       "adder_combinational_fast_bf16_report              0.001954   \n",
       "adder_combinational_fast_fp32_report              0.010806   \n",
       "adder_combinational_fast_fp8_report               0.001988   \n",
       "adder_combinational_fp32_report                   0.005949   \n",
       "...                                                    ...   \n",
       "multiplier_stage_4_fast_bf16_report               0.000216   \n",
       "multiplier_stage_4_fast_fp32_report               0.000553   \n",
       "multiplier_stage_4_fast_fp8_report                0.000118   \n",
       "multiplier_stage_4_fp32_report                    0.000568   \n",
       "multiplier_stage_4_fp8_report                     0.000097   \n",
       "\n",
       "                                      finish__timing__setup__ws  \n",
       "adder_combinational_bf16_report                    1.000000e+39  \n",
       "adder_combinational_fast_bf16_report               1.000000e+39  \n",
       "adder_combinational_fast_fp32_report               1.000000e+39  \n",
       "adder_combinational_fast_fp8_report                1.000000e+39  \n",
       "adder_combinational_fp32_report                    1.000000e+39  \n",
       "...                                                         ...  \n",
       "multiplier_stage_4_fast_bf16_report                1.000000e+39  \n",
       "multiplier_stage_4_fast_fp32_report                1.000000e+39  \n",
       "multiplier_stage_4_fast_fp8_report                 1.000000e+39  \n",
       "multiplier_stage_4_fp32_report                     1.000000e+39  \n",
       "multiplier_stage_4_fp8_report                      1.000000e+39  \n",
       "\n",
       "[72 rows x 3 columns]"
      ]
     },
     "execution_count": 23,
     "metadata": {},
     "output_type": "execute_result"
    }
   ],
   "source": [
    "df2"
   ]
  },
  {
   "cell_type": "code",
   "execution_count": 26,
   "metadata": {},
   "outputs": [
    {
     "name": "stderr",
     "output_type": "stream",
     "text": [
      "C:\\Users\\Home\\AppData\\Local\\Temp\\ipykernel_24184\\3725942034.py:1: SettingWithCopyWarning: \n",
      "A value is trying to be set on a copy of a slice from a DataFrame.\n",
      "Try using .loc[row_indexer,col_indexer] = value instead\n",
      "\n",
      "See the caveats in the documentation: https://pandas.pydata.org/pandas-docs/stable/user_guide/indexing.html#returning-a-view-versus-a-copy\n",
      "  df2[\"area\"] = df2[\"finish__design__instance__area\"]\n",
      "C:\\Users\\Home\\AppData\\Local\\Temp\\ipykernel_24184\\3725942034.py:2: SettingWithCopyWarning: \n",
      "A value is trying to be set on a copy of a slice from a DataFrame.\n",
      "Try using .loc[row_indexer,col_indexer] = value instead\n",
      "\n",
      "See the caveats in the documentation: https://pandas.pydata.org/pandas-docs/stable/user_guide/indexing.html#returning-a-view-versus-a-copy\n",
      "  df2[\"power\"] = df2[\"finish__power__total\"]\n",
      "C:\\Users\\Home\\AppData\\Local\\Temp\\ipykernel_24184\\3725942034.py:3: SettingWithCopyWarning: \n",
      "A value is trying to be set on a copy of a slice from a DataFrame.\n",
      "Try using .loc[row_indexer,col_indexer] = value instead\n",
      "\n",
      "See the caveats in the documentation: https://pandas.pydata.org/pandas-docs/stable/user_guide/indexing.html#returning-a-view-versus-a-copy\n",
      "  df2[\"ws\"] = df2[\"finish__timing__setup__ws\"]\n",
      "C:\\Users\\Home\\AppData\\Local\\Temp\\ipykernel_24184\\3725942034.py:4: SettingWithCopyWarning: \n",
      "A value is trying to be set on a copy of a slice from a DataFrame\n",
      "\n",
      "See the caveats in the documentation: https://pandas.pydata.org/pandas-docs/stable/user_guide/indexing.html#returning-a-view-versus-a-copy\n",
      "  df2.drop(columns=[\"finish__design__instance__area\", \"finish__power__total\", \"finish__timing__setup__ws\"], inplace=True)\n"
     ]
    },
    {
     "data": {
      "text/html": [
       "<div>\n",
       "<style scoped>\n",
       "    .dataframe tbody tr th:only-of-type {\n",
       "        vertical-align: middle;\n",
       "    }\n",
       "\n",
       "    .dataframe tbody tr th {\n",
       "        vertical-align: top;\n",
       "    }\n",
       "\n",
       "    .dataframe thead th {\n",
       "        text-align: right;\n",
       "    }\n",
       "</style>\n",
       "<table border=\"1\" class=\"dataframe\">\n",
       "  <thead>\n",
       "    <tr style=\"text-align: right;\">\n",
       "      <th></th>\n",
       "      <th>area</th>\n",
       "      <th>power</th>\n",
       "      <th>ws</th>\n",
       "    </tr>\n",
       "  </thead>\n",
       "  <tbody>\n",
       "    <tr>\n",
       "      <th>adder_combinational_bf16_report</th>\n",
       "      <td>1032.880</td>\n",
       "      <td>0.001745</td>\n",
       "      <td>1.000000e+39</td>\n",
       "    </tr>\n",
       "    <tr>\n",
       "      <th>adder_combinational_fast_bf16_report</th>\n",
       "      <td>927.542</td>\n",
       "      <td>0.001954</td>\n",
       "      <td>1.000000e+39</td>\n",
       "    </tr>\n",
       "    <tr>\n",
       "      <th>adder_combinational_fast_fp32_report</th>\n",
       "      <td>2886.370</td>\n",
       "      <td>0.010806</td>\n",
       "      <td>1.000000e+39</td>\n",
       "    </tr>\n",
       "    <tr>\n",
       "      <th>adder_combinational_fast_fp8_report</th>\n",
       "      <td>510.188</td>\n",
       "      <td>0.001988</td>\n",
       "      <td>1.000000e+39</td>\n",
       "    </tr>\n",
       "    <tr>\n",
       "      <th>adder_combinational_fp32_report</th>\n",
       "      <td>3230.040</td>\n",
       "      <td>0.005949</td>\n",
       "      <td>1.000000e+39</td>\n",
       "    </tr>\n",
       "    <tr>\n",
       "      <th>...</th>\n",
       "      <td>...</td>\n",
       "      <td>...</td>\n",
       "      <td>...</td>\n",
       "    </tr>\n",
       "    <tr>\n",
       "      <th>multiplier_stage_4_fast_bf16_report</th>\n",
       "      <td>352.982</td>\n",
       "      <td>0.000216</td>\n",
       "      <td>1.000000e+39</td>\n",
       "    </tr>\n",
       "    <tr>\n",
       "      <th>multiplier_stage_4_fast_fp32_report</th>\n",
       "      <td>1253.660</td>\n",
       "      <td>0.000553</td>\n",
       "      <td>1.000000e+39</td>\n",
       "    </tr>\n",
       "    <tr>\n",
       "      <th>multiplier_stage_4_fast_fp8_report</th>\n",
       "      <td>160.132</td>\n",
       "      <td>0.000118</td>\n",
       "      <td>1.000000e+39</td>\n",
       "    </tr>\n",
       "    <tr>\n",
       "      <th>multiplier_stage_4_fp32_report</th>\n",
       "      <td>1285.580</td>\n",
       "      <td>0.000568</td>\n",
       "      <td>1.000000e+39</td>\n",
       "    </tr>\n",
       "    <tr>\n",
       "      <th>multiplier_stage_4_fp8_report</th>\n",
       "      <td>148.162</td>\n",
       "      <td>0.000097</td>\n",
       "      <td>1.000000e+39</td>\n",
       "    </tr>\n",
       "  </tbody>\n",
       "</table>\n",
       "<p>72 rows × 3 columns</p>\n",
       "</div>"
      ],
      "text/plain": [
       "                                          area     power            ws\n",
       "adder_combinational_bf16_report       1032.880  0.001745  1.000000e+39\n",
       "adder_combinational_fast_bf16_report   927.542  0.001954  1.000000e+39\n",
       "adder_combinational_fast_fp32_report  2886.370  0.010806  1.000000e+39\n",
       "adder_combinational_fast_fp8_report    510.188  0.001988  1.000000e+39\n",
       "adder_combinational_fp32_report       3230.040  0.005949  1.000000e+39\n",
       "...                                        ...       ...           ...\n",
       "multiplier_stage_4_fast_bf16_report    352.982  0.000216  1.000000e+39\n",
       "multiplier_stage_4_fast_fp32_report   1253.660  0.000553  1.000000e+39\n",
       "multiplier_stage_4_fast_fp8_report     160.132  0.000118  1.000000e+39\n",
       "multiplier_stage_4_fp32_report        1285.580  0.000568  1.000000e+39\n",
       "multiplier_stage_4_fp8_report          148.162  0.000097  1.000000e+39\n",
       "\n",
       "[72 rows x 3 columns]"
      ]
     },
     "execution_count": 26,
     "metadata": {},
     "output_type": "execute_result"
    }
   ],
   "source": [
    "df2[\"area\"] = df2[\"finish__design__instance__area\"]\n",
    "df2[\"power\"] = df2[\"finish__power__total\"]\n",
    "df2[\"ws\"] = df2[\"finish__timing__setup__ws\"]\n",
    "df2.drop(columns=[\"finish__design__instance__area\", \"finish__power__total\", \"finish__timing__setup__ws\"], inplace=True)\n",
    "df2\n",
    "\n"
   ]
  },
  {
   "cell_type": "code",
   "execution_count": 28,
   "metadata": {},
   "outputs": [
    {
     "data": {
      "text/plain": [
       "area     883.652000\n",
       "power      0.001661\n",
       "ws         0.131132\n",
       "Name: adder_pipelined_fast_fp8_report, dtype: float64"
      ]
     },
     "execution_count": 28,
     "metadata": {},
     "output_type": "execute_result"
    }
   ],
   "source": [
    "#get index adder_pipelined_fast_fp8_report\n",
    "df2.loc[\"adder_pipelined_fast_fp8_report\"]\n"
   ]
  },
  {
   "cell_type": "code",
   "execution_count": 30,
   "metadata": {},
   "outputs": [
    {
     "data": {
      "text/plain": [
       "area     348.726000\n",
       "power      0.000583\n",
       "ws         0.265322\n",
       "Name: lmul_pipelined_fast_fp8_report, dtype: float64"
      ]
     },
     "execution_count": 30,
     "metadata": {},
     "output_type": "execute_result"
    }
   ],
   "source": [
    "#get index lmul_pipelined_fast_fp8_report\n",
    "df2.loc[\"lmul_pipelined_fast_fp8_report\"]\n"
   ]
  },
  {
   "cell_type": "code",
   "execution_count": 32,
   "metadata": {},
   "outputs": [
    {
     "data": {
      "text/plain": [
       "78872.19200000001"
      ]
     },
     "execution_count": 32,
     "metadata": {},
     "output_type": "execute_result"
    }
   ],
   "source": [
    "(883.652000+348.726000)*64"
   ]
  },
  {
   "cell_type": "code",
   "execution_count": 33,
   "metadata": {},
   "outputs": [
    {
     "data": {
      "text/plain": [
       "280.8419341907472"
      ]
     },
     "execution_count": 33,
     "metadata": {},
     "output_type": "execute_result"
    }
   ],
   "source": [
    "78872.19200000001**0.5"
   ]
  },
  {
   "cell_type": "code",
   "execution_count": null,
   "metadata": {},
   "outputs": [],
   "source": [
    "\n",
    "# Read the arrival_times CSV file\n",
    "arrival_times_df = pd.read_csv(\"verilog/arrival_times.csv\")\n",
    "\n",
    "# Transform the filenames to match the DataFrame indices\n",
    "# Convert 'adder_combinational_fp32_finish.rpt' to 'adder_combinational_fp32_report'\n",
    "arrival_times_df['index_name'] = arrival_times_df['filename'].str.replace('_finish.rpt', '_report')\n",
    "\n",
    "# Set the transformed filename as the index\n",
    "arrival_times_df.set_index('index_name', inplace=True)\n",
    "\n",
    "# Extract only the max_arrival_time column\n",
    "arrival_times_subset = arrival_times_df[['max_arrival_time']]\n",
    "\n",
    "# Merge with the existing DataFrame\n",
    "df_merged = pd.merge(df2, arrival_times_subset, left_index=True, right_index=True, how='left')"
   ]
  },
  {
   "cell_type": "code",
   "execution_count": 38,
   "metadata": {},
   "outputs": [],
   "source": [
    "df_merged.drop(columns=['ws'], inplace=True)"
   ]
  },
  {
   "cell_type": "code",
   "execution_count": 42,
   "metadata": {},
   "outputs": [],
   "source": [
    "#drop the _report from the index\n",
    "df_merged.index = df_merged.index.str.replace('_report', '')\n"
   ]
  },
  {
   "cell_type": "code",
   "execution_count": 43,
   "metadata": {},
   "outputs": [],
   "source": [
    "df_merged.to_csv(\"verilog/merged_data.csv\")\n"
   ]
  },
  {
   "cell_type": "code",
   "execution_count": null,
   "metadata": {},
   "outputs": [],
   "source": []
  }
 ],
 "metadata": {
  "kernelspec": {
   "display_name": "capstone2",
   "language": "python",
   "name": "python3"
  },
  "language_info": {
   "codemirror_mode": {
    "name": "ipython",
    "version": 3
   },
   "file_extension": ".py",
   "mimetype": "text/x-python",
   "name": "python",
   "nbconvert_exporter": "python",
   "pygments_lexer": "ipython3",
   "version": "3.12.8"
  }
 },
 "nbformat": 4,
 "nbformat_minor": 2
}
