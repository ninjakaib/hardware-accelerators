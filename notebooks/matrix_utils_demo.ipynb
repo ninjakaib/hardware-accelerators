{
 "cells": [
  {
   "cell_type": "markdown",
   "metadata": {},
   "source": [
    "# Matrix Utilities and Systolic Array Demo\n",
    "\n",
    "This notebook demonstrates the functionality of the matrix utilities and systolic array simulation.\n"
   ]
  },
  {
   "cell_type": "code",
   "execution_count": null,
   "metadata": {},
   "outputs": [],
   "source": [
    "import sys\n",
    "import numpy as np\n",
    "import matplotlib.pyplot as plt\n",
    "from hardware_accelerators.rtllib.matrix_utils import (\n",
    "    chunk_matrices,\n",
    "    compute_matrix_multiply,\n",
    "    simulate_systolic_multiply,\n",
    "    visualize_matrix_chunks,\n",
    "    validate_matrix_multiply\n",
    ")"
   ]
  },
  {
   "cell_type": "markdown",
   "metadata": {},
   "source": [
    "## 1. Basic Matrix Multiplication Example\n",
    "\n",
    "Let's start with a simple example using small matrices to understand how the chunking works.\n"
   ]
  },
  {
   "cell_type": "code",
   "execution_count": null,
   "metadata": {},
   "outputs": [],
   "source": [
    "# Create sample matrices\n",
    "matrix_a = np.array([\n",
    "    [1, 2, 3, 4],\n",
    "    [5, 6, 7, 8],\n",
    "    [9, 10, 11, 12],\n",
    "    [13, 14, 15, 16]\n",
    "])\n",
    "\n",
    "matrix_b = np.array([\n",
    "    [1, 2, 3, 4],\n",
    "    [5, 6, 7, 8],\n",
    "    [9, 10, 11, 12],\n",
    "    [13, 14, 15, 16]\n",
    "])\n",
    "\n",
    "# Visualize how matrices are chunked with 2x2 systolic array\n",
    "chunk_size = 2\n",
    "print(\"Visualizing matrix chunking:\")\n",
    "visualize_matrix_chunks(matrix_a, chunk_size, \"Matrix A Chunks\")\n",
    "visualize_matrix_chunks(matrix_b, chunk_size, \"Matrix B Chunks\")"
   ]
  },
  {
   "cell_type": "markdown",
   "metadata": {},
   "source": [
    "## 2. Compare Results with NumPy\n"
   ]
  },
  {
   "cell_type": "code",
   "execution_count": null,
   "metadata": {},
   "outputs": [],
   "source": [
    "# Compute using our systolic implementation\n",
    "systolic_result = compute_matrix_multiply(matrix_a, matrix_b, chunk_size, simulate_systolic_multiply)\n",
    "\n",
    "# Compare with numpy\n",
    "numpy_result = np.dot(matrix_a, matrix_b)\n",
    "\n",
    "print(\"Systolic Array Result:\")\n",
    "print(systolic_result)\n",
    "print(\"\\nNumPy Result:\")\n",
    "print(numpy_result)\n",
    "print(\"\\nResults match:\", np.allclose(systolic_result, numpy_result))"
   ]
  },
  {
   "cell_type": "markdown",
   "metadata": {},
   "source": [
    "## 3. Exploring Different Matrix Sizes\n",
    "\n",
    "Let's test with matrices that aren't perfectly divisible by the chunk size.\n"
   ]
  },
  {
   "cell_type": "code",
   "execution_count": null,
   "metadata": {},
   "outputs": [],
   "source": [
    "# Create matrices with dimensions not divisible by chunk size\n",
    "odd_matrix_a = np.random.randn(5, 6)\n",
    "odd_matrix_b = np.random.randn(6, 5)\n",
    "\n",
    "# Visualize chunking\n",
    "chunk_size = 2\n",
    "visualize_matrix_chunks(odd_matrix_a, chunk_size, \"Non-divisible Matrix A\")\n",
    "visualize_matrix_chunks(odd_matrix_b, chunk_size, \"Non-divisible Matrix B\")\n",
    "\n",
    "# Validate results\n",
    "validate_matrix_multiply(odd_matrix_a, odd_matrix_b, chunk_size, simulate_systolic_multiply)"
   ]
  },
  {
   "cell_type": "markdown",
   "metadata": {},
   "source": [
    "## 4. Performance Testing\n",
    "\n",
    "Let's measure the performance with different matrix and chunk sizes.\n"
   ]
  },
  {
   "cell_type": "code",
   "execution_count": null,
   "metadata": {},
   "outputs": [],
   "source": [
    "import time\n",
    "\n",
    "def benchmark_multiply(matrix_size, chunk_size):\n",
    "    A = np.random.randn(matrix_size, matrix_size)\n",
    "    B = np.random.randn(matrix_size, matrix_size)\n",
    "    \n",
    "    # Time systolic implementation\n",
    "    start = time.time()\n",
    "    systolic_result = compute_matrix_multiply(A, B, chunk_size, simulate_systolic_multiply)\n",
    "    systolic_time = time.time() - start\n",
    "    \n",
    "    # Time numpy implementation\n",
    "    start = time.time()\n",
    "    numpy_result = np.dot(A, B)\n",
    "    numpy_time = time.time() - start\n",
    "    \n",
    "    return systolic_time, numpy_time\n",
    "\n",
    "# Test different sizes\n",
    "sizes = [(8, 2), (16, 4), (32, 8)]\n",
    "results = []\n",
    "\n",
    "for matrix_size, chunk_size in sizes:\n",
    "    systolic_time, numpy_time = benchmark_multiply(matrix_size, chunk_size)\n",
    "    results.append({\n",
    "        'matrix_size': matrix_size,\n",
    "        'chunk_size': chunk_size,\n",
    "        'systolic_time': systolic_time,\n",
    "        'numpy_time': numpy_time\n",
    "    })\n",
    "    print(f\"Matrix size: {matrix_size}x{matrix_size}, Chunk size: {chunk_size}x{chunk_size}\")\n",
    "    print(f\"Systolic time: {systolic_time:.4f}s\")\n",
    "    print(f\"NumPy time: {numpy_time:.4f}s\\n\")"
   ]
  },
  {
   "cell_type": "markdown",
   "metadata": {},
   "source": [
    "## 5. Visualizing the Computation Process\n",
    "\n",
    "Let's create a visualization of how the partial results are accumulated.\n"
   ]
  },
  {
   "cell_type": "code",
   "execution_count": null,
   "metadata": {},
   "outputs": [],
   "source": [
    "def visualize_partial_results(matrix_a, matrix_b, chunk_size):\n",
    "    plt.figure(figsize=(15, 5))\n",
    "    \n",
    "    # Plot original matrices\n",
    "    plt.subplot(131)\n",
    "    plt.imshow(matrix_a, cmap='viridis')\n",
    "    plt.title('Matrix A')\n",
    "    plt.colorbar()\n",
    "    \n",
    "    plt.subplot(132)\n",
    "    plt.imshow(matrix_b, cmap='viridis')\n",
    "    plt.title('Matrix B')\n",
    "    plt.colorbar()\n",
    "    \n",
    "    # Compute and plot result\n",
    "    result = compute_matrix_multiply(matrix_a, matrix_b, chunk_size, simulate_systolic_multiply)\n",
    "    \n",
    "    plt.subplot(133)\n",
    "    plt.imshow(result, cmap='viridis')\n",
    "    plt.title('Result Matrix')\n",
    "    plt.colorbar()\n",
    "    \n",
    "    plt.tight_layout()\n",
    "    plt.show()\n",
    "\n",
    "# Create example matrices\n",
    "matrix_size = 6\n",
    "chunk_size = 2\n",
    "example_a = np.random.randn(matrix_size, matrix_size)\n",
    "example_b = np.random.randn(matrix_size, matrix_size)\n",
    "\n",
    "visualize_partial_results(example_a, example_b, chunk_size)"
   ]
  }
 ],
 "metadata": {
  "kernelspec": {
   "display_name": "Python 3",
   "language": "python",
   "name": "python3"
  },
  "language_info": {
   "codemirror_mode": {
    "name": "ipython",
    "version": 3
   },
   "file_extension": ".py",
   "mimetype": "text/x-python",
   "name": "python",
   "nbconvert_exporter": "python",
   "pygments_lexer": "ipython3",
   "version": "3.8.0"
  }
 },
 "nbformat": 4,
 "nbformat_minor": 4
}
