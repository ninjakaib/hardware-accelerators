{
 "cells": [
  {
   "cell_type": "markdown",
   "metadata": {},
   "source": [
    "# Float Adder RTL Design\n"
   ]
  },
  {
   "cell_type": "code",
   "execution_count": 2,
   "metadata": {},
   "outputs": [],
   "source": [
    "from typing import Type\n",
    "from collections import OrderedDict\n",
    "import numpy as np\n",
    "import pandas as pd\n",
    "import pyrtl\n",
    "from pyrtl import WireVector, Input, Output, probe, Simulation\n",
    "from hardware_accelerators.dtypes import *\n",
    "from hardware_accelerators.rtllib.utils.adder_utils import *\n",
    "from hardware_accelerators.rtllib.utils.common import extract_float_components\n",
    "from hardware_accelerators.simulation.utils import render_waveform\n",
    "from hardware_accelerators.simulation.repr_funcs import *"
   ]
  },
  {
   "cell_type": "markdown",
   "metadata": {},
   "source": [
    "## PyRTL Analysis\n"
   ]
  },
  {
   "cell_type": "markdown",
   "metadata": {},
   "source": [
    "### New Wrapper Class\n"
   ]
  },
  {
   "cell_type": "code",
   "execution_count": 3,
   "metadata": {},
   "outputs": [],
   "source": [
    "class FloatAdder:\n",
    "    def __init__(\n",
    "        self,\n",
    "        dtype: Type[BaseFloat] = BF16,\n",
    "    ):\n",
    "        self.dtype = dtype\n",
    "        self.bitwidth = dtype.bitwidth()\n",
    "\n",
    "    def construct_adder(\n",
    "        self,\n",
    "        float_a: WireVector,\n",
    "        float_b: WireVector,\n",
    "    ):\n",
    "        e_bits, m_bits = self.dtype.exponent_bits(), self.dtype.mantissa_bits()\n",
    "\n",
    "        sign_a, sign_b, exp_a, exp_b, mantissa_a, mantissa_b = extract_float_components(\n",
    "            float_a, float_b, e_bits, m_bits\n",
    "        )\n",
    "\n",
    "        sign_xor, exp_larger, signed_shift, mant_smaller, mant_larger = adder_stage_2(\n",
    "            sign_a, sign_b, exp_a, exp_b, mantissa_a, mantissa_b, e_bits, m_bits\n",
    "        )\n",
    "\n",
    "        abs_shift = WireVector(e_bits)  # , \"abs_shift\")\n",
    "        abs_shift <<= signed_shift[:e_bits]\n",
    "\n",
    "        aligned_mant_msb, sticky_bit, guard_bit, round_bit = adder_stage_3(\n",
    "            mant_smaller, abs_shift, m_bits, e_bits\n",
    "        )\n",
    "\n",
    "        mantissa_sum, is_neg, lzc = adder_stage_4(\n",
    "            aligned_mant_msb, mant_larger, sign_xor, m_bits\n",
    "        )\n",
    "\n",
    "        final_sign, final_exp, norm_mantissa = adder_stage_5(\n",
    "            mantissa_sum,\n",
    "            sticky_bit,\n",
    "            guard_bit,\n",
    "            round_bit,\n",
    "            lzc,\n",
    "            exp_larger,\n",
    "            sign_a,\n",
    "            sign_b,\n",
    "            signed_shift,\n",
    "            is_neg,\n",
    "            e_bits,\n",
    "            m_bits,\n",
    "        )\n",
    "\n",
    "        probe(sign_a, \"sign_a\")\n",
    "        probe(sign_b, \"sign_b\")\n",
    "        probe(exp_a, \"exp_a\")\n",
    "        probe(exp_b, \"exp_b\")\n",
    "        probe(mantissa_a, \"mantissa_a\")\n",
    "        probe(mantissa_b, \"mantissa_b\")\n",
    "        probe(sign_xor, \"sign_xor\")\n",
    "        probe(exp_larger, \"exp_larger\")\n",
    "        probe(mant_larger, \"mant_larger\")\n",
    "        probe(mant_smaller, \"mant_smaller\")\n",
    "        probe(signed_shift, \"signed_shift\")\n",
    "        probe(abs_shift, \"abs_shift\")\n",
    "        probe(aligned_mant_msb, \"aligned_mant_msb\")\n",
    "        probe(sticky_bit, \"sticky_bit\")\n",
    "        probe(guard_bit, \"guard_bit\")\n",
    "        probe(round_bit, \"round_bit\")\n",
    "        probe(mantissa_sum, \"mantissa_sum\")\n",
    "        probe(is_neg, \"is_neg\")\n",
    "        probe(lzc, \"lzc\")\n",
    "        probe(final_exp, \"final_exp\")\n",
    "        probe(final_sign, \"final_sign\")\n",
    "\n",
    "        out = WireVector(self.bitwidth)  # , \"float_result\")\n",
    "        out <<= pyrtl.concat(final_sign, final_exp, norm_mantissa)\n",
    "        return out\n",
    "\n",
    "    @property\n",
    "    def repr_map(self):\n",
    "        return OrderedDict(\n",
    "            [\n",
    "                (\"float_a\", repr_bf16),\n",
    "                (\"float_b\", repr_bf16),\n",
    "                (\"result\", repr_bf16),\n",
    "                (\"sign_a\", repr_sign),\n",
    "                # (\"sign_b\", repr_sign),\n",
    "                # (\"sign_xor\", repr_num),\n",
    "                # (\"exp_a\", repr_exp),\n",
    "                # (\"exp_b\", repr_exp),\n",
    "                # (\"exp_larger\", repr_exp),\n",
    "                # (\"mantissa_a\", repr_mantissa),\n",
    "                # (\"mantissa_b\", repr_mantissa),\n",
    "                # (\"mant_larger\", repr_mantissa),\n",
    "                # (\"mant_smaller\", repr_mantissa),\n",
    "                # (\"mantissa_sum\", repr_mantissa_sum),\n",
    "                (\"is_neg\", repr_num),\n",
    "                (\"final_sign\", repr_sign),\n",
    "            ]\n",
    "        )\n",
    "\n",
    "    def setup_sim(self):\n",
    "        pyrtl.reset_working_block()\n",
    "\n",
    "        float_a = Input(self.dtype.bitwidth(), \"float_a\")\n",
    "        float_b = Input(self.dtype.bitwidth(), \"float_b\")\n",
    "        result = Output(self.dtype.bitwidth(), \"result\")\n",
    "        result <<= self.construct_adder(float_a, float_b)\n",
    "\n",
    "        self.sim = Simulation()\n",
    "\n",
    "    def __call__(self, a, b, render=False):\n",
    "        if not hasattr(self, \"sim\"):\n",
    "            self.setup_sim()\n",
    "\n",
    "        self.sim.step(\n",
    "            {\n",
    "                \"float_a\": self.dtype(a).binint,\n",
    "                \"float_b\": self.dtype(b).binint,\n",
    "            }\n",
    "        )\n",
    "\n",
    "        expected = self.dtype(a) + self.dtype(b)\n",
    "        sim_result = self.dtype(binint=self.sim.inspect(\"result\"))\n",
    "\n",
    "        # assert sim_result == expected, f\"Expected {expected}, got {sim_result}\"\n",
    "\n",
    "        if render:\n",
    "            render_waveform(\n",
    "                self.sim,\n",
    "                trace_list=[w for w in self.repr_map],\n",
    "                repr_per_name={w: fn for w, fn in self.repr_map.items()},\n",
    "            )\n",
    "\n",
    "            if sim_result == expected:\n",
    "                print(\"Pass!\")\n",
    "            else:\n",
    "                print(\"Fail!\")\n",
    "            print(f\"Expected: {expected}, got: {sim_result}\")\n",
    "\n",
    "        return float(sim_result), float(expected)"
   ]
  },
  {
   "cell_type": "code",
   "execution_count": null,
   "metadata": {},
   "outputs": [],
   "source": [
    "def test_adder(start: int, stop: int, n: int):\n",
    "    adder = FloatAdder()\n",
    "    nums = np.linspace(start, stop, n)\n",
    "    results = []\n",
    "    for a in nums:\n",
    "        for b in nums:\n",
    "            calc, expected = adder(a, b)\n",
    "            results.append(\n",
    "                {\n",
    "                    \"result\": calc,\n",
    "                    \"expected\": expected,\n",
    "                    \"a\": a,\n",
    "                    \"b\": b,\n",
    "                    \"pass\": calc == expected,\n",
    "                    \"error\": abs(calc - expected),\n",
    "                    \"error_pct\": (\n",
    "                        abs(calc - expected) / expected * 100\n",
    "                        if expected != 0\n",
    "                        else \"N/A\"\n",
    "                    ),\n",
    "                }\n",
    "            )\n",
    "    return pd.DataFrame(results)"
   ]
  },
  {
   "cell_type": "code",
   "execution_count": null,
   "metadata": {},
   "outputs": [
    {
     "data": {
      "application/vnd.microsoft.datawrangler.viewer.v0+json": {
       "columns": [
        {
         "name": "index",
         "rawType": "int64",
         "type": "integer"
        },
        {
         "name": "result",
         "rawType": "float64",
         "type": "float"
        },
        {
         "name": "expected",
         "rawType": "float64",
         "type": "float"
        },
        {
         "name": "a",
         "rawType": "float64",
         "type": "float"
        },
        {
         "name": "b",
         "rawType": "float64",
         "type": "float"
        },
        {
         "name": "pass",
         "rawType": "bool",
         "type": "boolean"
        },
        {
         "name": "error",
         "rawType": "float64",
         "type": "float"
        },
        {
         "name": "error_pct",
         "rawType": "object",
         "type": "unknown"
        }
       ],
       "conversionMethod": "pd.DataFrame",
       "ref": "166d548f-2ebf-45d5-9d02-10dd19026172",
       "rows": [
        [
         "0",
         "-100.0",
         "-100.0",
         "-50.0",
         "-50.0",
         "True",
         "0.0",
         "-0.0"
        ],
        [
         "1",
         "-98.5",
         "-98.5",
         "-50.0",
         "-48.98989898989899",
         "True",
         "0.0",
         "-0.0"
        ],
        [
         "2",
         "-97.5",
         "-97.5",
         "-50.0",
         "-47.97979797979798",
         "True",
         "0.0",
         "-0.0"
        ],
        [
         "3",
         "-96.5",
         "-96.5",
         "-50.0",
         "-46.96969696969697",
         "True",
         "0.0",
         "-0.0"
        ],
        [
         "4",
         "-95.5",
         "-95.5",
         "-50.0",
         "-45.95959595959596",
         "True",
         "0.0",
         "-0.0"
        ],
        [
         "5",
         "-94.5",
         "-94.5",
         "-50.0",
         "-44.94949494949495",
         "True",
         "0.0",
         "-0.0"
        ],
        [
         "6",
         "-93.5",
         "-93.5",
         "-50.0",
         "-43.93939393939394",
         "True",
         "0.0",
         "-0.0"
        ],
        [
         "7",
         "-92.5",
         "-92.5",
         "-50.0",
         "-42.92929292929293",
         "True",
         "0.0",
         "-0.0"
        ],
        [
         "8",
         "-91.5",
         "-91.5",
         "-50.0",
         "-41.91919191919192",
         "True",
         "0.0",
         "-0.0"
        ],
        [
         "9",
         "-90.5",
         "-90.5",
         "-50.0",
         "-40.90909090909091",
         "True",
         "0.0",
         "-0.0"
        ],
        [
         "10",
         "-89.5",
         "-89.5",
         "-50.0",
         "-39.898989898989896",
         "True",
         "0.0",
         "-0.0"
        ],
        [
         "11",
         "-88.5",
         "-88.5",
         "-50.0",
         "-38.888888888888886",
         "True",
         "0.0",
         "-0.0"
        ],
        [
         "12",
         "-87.5",
         "-87.5",
         "-50.0",
         "-37.878787878787875",
         "True",
         "0.0",
         "-0.0"
        ],
        [
         "13",
         "-86.5",
         "-86.5",
         "-50.0",
         "-36.868686868686865",
         "True",
         "0.0",
         "-0.0"
        ],
        [
         "14",
         "-85.5",
         "-85.5",
         "-50.0",
         "-35.858585858585855",
         "True",
         "0.0",
         "-0.0"
        ],
        [
         "15",
         "-84.5",
         "-84.5",
         "-50.0",
         "-34.848484848484844",
         "True",
         "0.0",
         "-0.0"
        ],
        [
         "16",
         "-83.5",
         "-83.5",
         "-50.0",
         "-33.838383838383834",
         "True",
         "0.0",
         "-0.0"
        ],
        [
         "17",
         "-82.5",
         "-82.5",
         "-50.0",
         "-32.82828282828282",
         "True",
         "0.0",
         "-0.0"
        ],
        [
         "18",
         "-81.5",
         "-81.5",
         "-50.0",
         "-31.818181818181817",
         "True",
         "0.0",
         "-0.0"
        ],
        [
         "19",
         "-80.5",
         "-80.5",
         "-50.0",
         "-30.808080808080806",
         "True",
         "0.0",
         "-0.0"
        ],
        [
         "20",
         "-79.5",
         "-79.5",
         "-50.0",
         "-29.797979797979796",
         "True",
         "0.0",
         "-0.0"
        ],
        [
         "21",
         "-78.5",
         "-78.5",
         "-50.0",
         "-28.787878787878785",
         "True",
         "0.0",
         "-0.0"
        ],
        [
         "22",
         "-77.5",
         "-77.5",
         "-50.0",
         "-27.777777777777775",
         "True",
         "0.0",
         "-0.0"
        ],
        [
         "23",
         "-76.5",
         "-76.5",
         "-50.0",
         "-26.767676767676765",
         "True",
         "0.0",
         "-0.0"
        ],
        [
         "24",
         "-75.5",
         "-75.5",
         "-50.0",
         "-25.757575757575758",
         "True",
         "0.0",
         "-0.0"
        ],
        [
         "25",
         "-74.5",
         "-74.5",
         "-50.0",
         "-24.747474747474747",
         "True",
         "0.0",
         "-0.0"
        ],
        [
         "26",
         "-73.5",
         "-73.5",
         "-50.0",
         "-23.737373737373737",
         "True",
         "0.0",
         "-0.0"
        ],
        [
         "27",
         "-72.5",
         "-72.5",
         "-50.0",
         "-22.727272727272727",
         "True",
         "0.0",
         "-0.0"
        ],
        [
         "28",
         "-71.5",
         "-71.5",
         "-50.0",
         "-21.717171717171716",
         "True",
         "0.0",
         "-0.0"
        ],
        [
         "29",
         "-70.5",
         "-70.5",
         "-50.0",
         "-20.707070707070706",
         "True",
         "0.0",
         "-0.0"
        ],
        [
         "30",
         "-69.5",
         "-69.5",
         "-50.0",
         "-19.696969696969695",
         "True",
         "0.0",
         "-0.0"
        ],
        [
         "31",
         "-68.5",
         "-68.5",
         "-50.0",
         "-18.686868686868685",
         "True",
         "0.0",
         "-0.0"
        ],
        [
         "32",
         "-67.5",
         "-67.5",
         "-50.0",
         "-17.676767676767675",
         "True",
         "0.0",
         "-0.0"
        ],
        [
         "33",
         "-66.5",
         "-66.5",
         "-50.0",
         "-16.666666666666664",
         "True",
         "0.0",
         "-0.0"
        ],
        [
         "34",
         "-65.5",
         "-65.5",
         "-50.0",
         "-15.656565656565654",
         "True",
         "0.0",
         "-0.0"
        ],
        [
         "35",
         "-64.5",
         "-64.5",
         "-50.0",
         "-14.646464646464644",
         "True",
         "0.0",
         "-0.0"
        ],
        [
         "36",
         "-63.5",
         "-63.5",
         "-50.0",
         "-13.636363636363633",
         "True",
         "0.0",
         "-0.0"
        ],
        [
         "37",
         "-62.5",
         "-62.5",
         "-50.0",
         "-12.626262626262623",
         "True",
         "0.0",
         "-0.0"
        ],
        [
         "38",
         "-61.5",
         "-61.5",
         "-50.0",
         "-11.616161616161612",
         "True",
         "0.0",
         "-0.0"
        ],
        [
         "39",
         "-60.5",
         "-60.5",
         "-50.0",
         "-10.606060606060602",
         "True",
         "0.0",
         "-0.0"
        ],
        [
         "40",
         "-59.5",
         "-59.5",
         "-50.0",
         "-9.595959595959592",
         "True",
         "0.0",
         "-0.0"
        ],
        [
         "41",
         "-58.5",
         "-58.5",
         "-50.0",
         "-8.585858585858581",
         "True",
         "0.0",
         "-0.0"
        ],
        [
         "42",
         "-57.5",
         "-57.5",
         "-50.0",
         "-7.575757575757571",
         "True",
         "0.0",
         "-0.0"
        ],
        [
         "43",
         "-56.5",
         "-56.5",
         "-50.0",
         "-6.56565656565656",
         "True",
         "0.0",
         "-0.0"
        ],
        [
         "44",
         "-55.5",
         "-55.5",
         "-50.0",
         "-5.55555555555555",
         "True",
         "0.0",
         "-0.0"
        ],
        [
         "45",
         "-54.5",
         "-54.5",
         "-50.0",
         "-4.54545454545454",
         "True",
         "0.0",
         "-0.0"
        ],
        [
         "46",
         "-53.5",
         "-53.5",
         "-50.0",
         "-3.5353535353535293",
         "True",
         "0.0",
         "-0.0"
        ],
        [
         "47",
         "-52.5",
         "-52.5",
         "-50.0",
         "-2.525252525252519",
         "True",
         "0.0",
         "-0.0"
        ],
        [
         "48",
         "-51.5",
         "-51.5",
         "-50.0",
         "-1.5151515151515156",
         "True",
         "0.0",
         "-0.0"
        ],
        [
         "49",
         "-50.5",
         "-50.5",
         "-50.0",
         "-0.5050505050505052",
         "True",
         "0.0",
         "-0.0"
        ]
       ],
       "shape": {
        "columns": 7,
        "rows": 10000
       }
      },
      "text/html": [
       "<div>\n",
       "<style scoped>\n",
       "    .dataframe tbody tr th:only-of-type {\n",
       "        vertical-align: middle;\n",
       "    }\n",
       "\n",
       "    .dataframe tbody tr th {\n",
       "        vertical-align: top;\n",
       "    }\n",
       "\n",
       "    .dataframe thead th {\n",
       "        text-align: right;\n",
       "    }\n",
       "</style>\n",
       "<table border=\"1\" class=\"dataframe\">\n",
       "  <thead>\n",
       "    <tr style=\"text-align: right;\">\n",
       "      <th></th>\n",
       "      <th>result</th>\n",
       "      <th>expected</th>\n",
       "      <th>a</th>\n",
       "      <th>b</th>\n",
       "      <th>pass</th>\n",
       "      <th>error</th>\n",
       "      <th>error_pct</th>\n",
       "    </tr>\n",
       "  </thead>\n",
       "  <tbody>\n",
       "    <tr>\n",
       "      <th>0</th>\n",
       "      <td>-100.0</td>\n",
       "      <td>-100.0</td>\n",
       "      <td>-50.0</td>\n",
       "      <td>-50.000000</td>\n",
       "      <td>True</td>\n",
       "      <td>0.0</td>\n",
       "      <td>-0.0</td>\n",
       "    </tr>\n",
       "    <tr>\n",
       "      <th>1</th>\n",
       "      <td>-98.5</td>\n",
       "      <td>-98.5</td>\n",
       "      <td>-50.0</td>\n",
       "      <td>-48.989899</td>\n",
       "      <td>True</td>\n",
       "      <td>0.0</td>\n",
       "      <td>-0.0</td>\n",
       "    </tr>\n",
       "    <tr>\n",
       "      <th>2</th>\n",
       "      <td>-97.5</td>\n",
       "      <td>-97.5</td>\n",
       "      <td>-50.0</td>\n",
       "      <td>-47.979798</td>\n",
       "      <td>True</td>\n",
       "      <td>0.0</td>\n",
       "      <td>-0.0</td>\n",
       "    </tr>\n",
       "    <tr>\n",
       "      <th>3</th>\n",
       "      <td>-96.5</td>\n",
       "      <td>-96.5</td>\n",
       "      <td>-50.0</td>\n",
       "      <td>-46.969697</td>\n",
       "      <td>True</td>\n",
       "      <td>0.0</td>\n",
       "      <td>-0.0</td>\n",
       "    </tr>\n",
       "    <tr>\n",
       "      <th>4</th>\n",
       "      <td>-95.5</td>\n",
       "      <td>-95.5</td>\n",
       "      <td>-50.0</td>\n",
       "      <td>-45.959596</td>\n",
       "      <td>True</td>\n",
       "      <td>0.0</td>\n",
       "      <td>-0.0</td>\n",
       "    </tr>\n",
       "    <tr>\n",
       "      <th>...</th>\n",
       "      <td>...</td>\n",
       "      <td>...</td>\n",
       "      <td>...</td>\n",
       "      <td>...</td>\n",
       "      <td>...</td>\n",
       "      <td>...</td>\n",
       "      <td>...</td>\n",
       "    </tr>\n",
       "    <tr>\n",
       "      <th>9995</th>\n",
       "      <td>95.5</td>\n",
       "      <td>95.5</td>\n",
       "      <td>50.0</td>\n",
       "      <td>45.959596</td>\n",
       "      <td>True</td>\n",
       "      <td>0.0</td>\n",
       "      <td>0.0</td>\n",
       "    </tr>\n",
       "    <tr>\n",
       "      <th>9996</th>\n",
       "      <td>96.5</td>\n",
       "      <td>96.5</td>\n",
       "      <td>50.0</td>\n",
       "      <td>46.969697</td>\n",
       "      <td>True</td>\n",
       "      <td>0.0</td>\n",
       "      <td>0.0</td>\n",
       "    </tr>\n",
       "    <tr>\n",
       "      <th>9997</th>\n",
       "      <td>97.5</td>\n",
       "      <td>97.5</td>\n",
       "      <td>50.0</td>\n",
       "      <td>47.979798</td>\n",
       "      <td>True</td>\n",
       "      <td>0.0</td>\n",
       "      <td>0.0</td>\n",
       "    </tr>\n",
       "    <tr>\n",
       "      <th>9998</th>\n",
       "      <td>98.5</td>\n",
       "      <td>98.5</td>\n",
       "      <td>50.0</td>\n",
       "      <td>48.989899</td>\n",
       "      <td>True</td>\n",
       "      <td>0.0</td>\n",
       "      <td>0.0</td>\n",
       "    </tr>\n",
       "    <tr>\n",
       "      <th>9999</th>\n",
       "      <td>100.0</td>\n",
       "      <td>100.0</td>\n",
       "      <td>50.0</td>\n",
       "      <td>50.000000</td>\n",
       "      <td>True</td>\n",
       "      <td>0.0</td>\n",
       "      <td>0.0</td>\n",
       "    </tr>\n",
       "  </tbody>\n",
       "</table>\n",
       "<p>10000 rows × 7 columns</p>\n",
       "</div>"
      ],
      "text/plain": [
       "      result  expected     a          b  pass  error error_pct\n",
       "0     -100.0    -100.0 -50.0 -50.000000  True    0.0      -0.0\n",
       "1      -98.5     -98.5 -50.0 -48.989899  True    0.0      -0.0\n",
       "2      -97.5     -97.5 -50.0 -47.979798  True    0.0      -0.0\n",
       "3      -96.5     -96.5 -50.0 -46.969697  True    0.0      -0.0\n",
       "4      -95.5     -95.5 -50.0 -45.959596  True    0.0      -0.0\n",
       "...      ...       ...   ...        ...   ...    ...       ...\n",
       "9995    95.5      95.5  50.0  45.959596  True    0.0       0.0\n",
       "9996    96.5      96.5  50.0  46.969697  True    0.0       0.0\n",
       "9997    97.5      97.5  50.0  47.979798  True    0.0       0.0\n",
       "9998    98.5      98.5  50.0  48.989899  True    0.0       0.0\n",
       "9999   100.0     100.0  50.0  50.000000  True    0.0       0.0\n",
       "\n",
       "[10000 rows x 7 columns]"
      ]
     },
     "execution_count": 137,
     "metadata": {},
     "output_type": "execute_result"
    }
   ],
   "source": [
    "df = test_adder(-50, 50, 100)\n",
    "df"
   ]
  },
  {
   "cell_type": "code",
   "execution_count": 140,
   "metadata": {},
   "outputs": [
    {
     "data": {
      "text/plain": [
       "<Axes: >"
      ]
     },
     "execution_count": 140,
     "metadata": {},
     "output_type": "execute_result"
    },
    {
     "data": {
      "image/png": "[encoded data removed]",
      "text/plain": [
       "<Figure size 640x480 with 1 Axes>"
      ]
     },
     "metadata": {},
     "output_type": "display_data"
    }
   ],
   "source": [
    "df[\"error\"].hist()"
   ]
  },
  {
   "cell_type": "markdown",
   "metadata": {},
   "source": [
    "## Deducting a Correct Truth Table for Sign Bit\n"
   ]
  },
  {
   "cell_type": "markdown",
   "metadata": {},
   "source": [
    "| sign_a | is_neg    | sign_out |\n",
    "| ------ | --------- | -------- |\n",
    "| 0 (+)  | 0 (False) | 0 (+)    |\n",
    "| 0 (+)  | 1 (True)  | 1 (-)    |\n",
    "| 1 (-)  | 0 (False) | 1 (-)    |\n",
    "| 1 (-)  | 1 (True)  | 0 (+)    |\n"
   ]
  },
  {
   "cell_type": "code",
   "execution_count": 7,
   "metadata": {},
   "outputs": [],
   "source": [
    "adder = FloatAdder()"
   ]
  },
  {
   "cell_type": "code",
   "execution_count": 8,
   "metadata": {},
   "outputs": [
    {
     "data": {
      "text/html": [
       "<script type=\"WaveDrom\">\n",
       "{\n",
       "  signal : [\n",
       "    { name: \"float_a\",  wave: \"====\", data: [\"2.5000\", \"2.0000\", \"-2.0000\", \"-3.0000\"] },\n",
       "    { name: \"float_b\",  wave: \"====\", data: [\"-2.0000\", \"-3.0000\", \"2.5000\", \"2.0000\"] },\n",
       "    { name: \"result\",  wave: \"====\", data: [\"0.5000\", \"-1.0000\", \"0.5000\", \"-1.0000\"] },\n",
       "    { name: \"sign_a\",  wave: \"=.=.\", data: [\"0 (+)\", \"1 (-)\"] },\n",
       "    { name: \"is_neg\",  wave: \"==.=\", data: [\"0 (0)\", \"1 (1)\", \"0 (0)\"] },\n",
       "    { name: \"final_sign\",  wave: \"====\", data: [\"0 (+)\", \"1 (-)\", \"0 (+)\", \"1 (-)\"] },\n",
       "  ],\n",
       "  config: { hscale: 2 }\n",
       "}\n",
       "</script>\n"
      ],
      "text/plain": [
       "<IPython.core.display.HTML object>"
      ]
     },
     "metadata": {},
     "output_type": "display_data"
    },
    {
     "data": {
      "application/javascript": "\n        $.when(\n        $.getScript(\"https://cdnjs.cloudflare.com/ajax/libs/wavedrom/1.6.2/skins/default.js\"),\n        $.getScript(\"https://cdnjs.cloudflare.com/ajax/libs/wavedrom/1.6.2/wavedrom.min.js\"),\n        $.Deferred(function( deferred ){\n            $( deferred.resolve );\n        })).done(function(){\n            WaveDrom.ProcessAll();\n        });",
      "text/plain": [
       "<IPython.core.display.Javascript object>"
      ]
     },
     "metadata": {},
     "output_type": "display_data"
    },
    {
     "name": "stdout",
     "output_type": "stream",
     "text": [
      "Pass!\n",
      "Expected: -1.0, got: -1.0\n"
     ]
    },
    {
     "data": {
      "text/plain": [
       "(-1.0, -1.0)"
      ]
     },
     "execution_count": 8,
     "metadata": {},
     "output_type": "execute_result"
    }
   ],
   "source": [
    "adder(2.5, -2)\n",
    "adder(2, -3)\n",
    "adder(-2, 2.5)\n",
    "adder(-3, 2, True)"
   ]
  },
  {
   "cell_type": "code",
   "execution_count": null,
   "metadata": {},
   "outputs": [
    {
     "data": {
      "text/html": [
       "<script type=\"WaveDrom\">\n",
       "{\n",
       "  signal : [\n",
       "    { name: \"float_a\",  wave: \"====\", data: [\"2.5000\", \"2.0000\", \"-2.0000\", \"-3.0000\"] },\n",
       "    { name: \"float_b\",  wave: \"====\", data: [\"-2.0000\", \"-3.0000\", \"2.5000\", \"2.0000\"] },\n",
       "    { name: \"result\",  wave: \"====\", data: [\"0.5000\", \"-1.0000\", \"0.5000\", \"-1.0000\"] },\n",
       "    { name: \"sign_a\",  wave: \"=.=.\", data: [\"0 (+)\", \"1 (-)\"] },\n",
       "    { name: \"is_neg\",  wave: \"==.=\", data: [\"0 (0)\", \"1 (1)\", \"0 (0)\"] },\n",
       "    { name: \"final_sign\",  wave: \"====\", data: [\"0 (+)\", \"1 (-)\", \"0 (+)\", \"1 (-)\"] },\n",
       "  ],\n",
       "  config: { hscale: 2 }\n",
       "}\n",
       "</script>\n"
      ],
      "text/plain": [
       "<IPython.core.display.HTML object>"
      ]
     },
     "metadata": {},
     "output_type": "display_data"
    },
    {
     "data": {
      "application/javascript": "\n        $.when(\n        $.getScript(\"https://cdnjs.cloudflare.com/ajax/libs/wavedrom/1.6.2/skins/default.js\"),\n        $.getScript(\"https://cdnjs.cloudflare.com/ajax/libs/wavedrom/1.6.2/wavedrom.min.js\"),\n        $.Deferred(function( deferred ){\n            $( deferred.resolve );\n        })).done(function(){\n            WaveDrom.ProcessAll();\n        });",
      "text/plain": [
       "<IPython.core.display.Javascript object>"
      ]
     },
     "metadata": {},
     "output_type": "display_data"
    },
    {
     "name": "stdout",
     "output_type": "stream",
     "text": [
      "Pass!\n",
      "Expected: -1.0, got: -1.0\n"
     ]
    },
    {
     "data": {
      "text/plain": [
       "(-1.0, -1.0)"
      ]
     },
     "execution_count": 9,
     "metadata": {},
     "output_type": "execute_result"
    }
   ],
   "source": [
    "adder.setup_sim()\n",
    "adder(2.5, -2)\n",
    "adder(2, -3)\n",
    "adder(-2, 2.5)\n",
    "adder(-3, 2, True)"
   ]
  }
 ],
 "metadata": {
  "kernelspec": {
   "display_name": "dsc180",
   "language": "python",
   "name": "python3"
  },
  "language_info": {
   "codemirror_mode": {
    "name": "ipython",
    "version": 3
   },
   "file_extension": ".py",
   "mimetype": "text/x-python",
   "name": "python",
   "nbconvert_exporter": "python",
   "pygments_lexer": "ipython3",
   "version": "3.12.7"
  }
 },
 "nbformat": 4,
 "nbformat_minor": 2
}
