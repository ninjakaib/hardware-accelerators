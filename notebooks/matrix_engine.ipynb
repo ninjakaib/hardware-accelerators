{
 "cells": [
  {
   "cell_type": "markdown",
   "metadata": {},
   "source": [
    "# Matrix Acceleration Engine"
   ]
  },
  {
   "cell_type": "code",
   "execution_count": 3,
   "metadata": {},
   "outputs": [],
   "source": [
    "from hardware_accelerators.rtllib import (\n",
    "    SystolicArrayDiP,\n",
    "    BufferMemory,\n",
    "    AccumulatorMemoryBank,\n",
    "    float_adder,\n",
    "    float_multiplier,\n",
    "    lmul_fast,\n",
    ")\n",
    "from hardware_accelerators.dtypes import *\n",
    "from pyrtl import WireVector, Register, Input, Output, conditional_assignment, otherwise\n",
    "import numpy as np\n",
    "from dataclasses import dataclass\n",
    "from typing import Type, Callable"
   ]
  },
  {
   "cell_type": "markdown",
   "metadata": {},
   "source": [
    "## Putting everything together"
   ]
  },
  {
   "cell_type": "code",
   "execution_count": 20,
   "metadata": {},
   "outputs": [],
   "source": [
    "@dataclass\n",
    "class AcceleratorConfig:\n",
    "    \"\"\"Configuration class for a systolic array accelerator.\n",
    "\n",
    "    This class defines the parameters and specifications for a systolic array\n",
    "    accelerator including array dimensions, data types, arithmetic operations,\n",
    "    and memory configuration.\n",
    "    \"\"\"\n",
    "\n",
    "    array_size: int\n",
    "    \"\"\"Dimension of systolic array (always square)\"\"\"\n",
    "\n",
    "    data_type: Type[BaseFloat]\n",
    "    \"\"\"Floating point format of input data to systolic array\"\"\"\n",
    "\n",
    "    weight_type: Type[BaseFloat]\n",
    "    \"\"\"Floating point format of weight inputs\"\"\"\n",
    "\n",
    "    accum_type: Type[BaseFloat]\n",
    "    \"\"\"Floating point format to accumulate values in\"\"\"\n",
    "\n",
    "    pe_adder: Callable[[WireVector, WireVector, Type[BaseFloat]], WireVector]\n",
    "    \"\"\"Function to generate adder hardware for the processing elements\"\"\"\n",
    "\n",
    "    accum_adder: Callable[[WireVector, WireVector, Type[BaseFloat]], WireVector]\n",
    "    \"\"\"Function to generate adder hardware for the accumulator buffer\"\"\"\n",
    "\n",
    "    pe_multiplier: Callable[[WireVector, WireVector, Type[BaseFloat]], WireVector]\n",
    "    \"\"\"Function to generate multiplier hardware for the processing elements\"\"\"\n",
    "\n",
    "    pipeline: bool\n",
    "    \"\"\"Whether to add a pipeline stage in processing elements between multiplier and adder\"\"\"\n",
    "\n",
    "    accumulator_tiles: int\n",
    "    \"\"\"Number of tiles in the accumulator memory, each tile is equal to the size of the systolic array\"\"\"\n",
    "\n",
    "    @property\n",
    "    def accum_addr_width(self):\n",
    "        \"\"\"Get the width of the accumulator address bus in bits\"\"\"\n",
    "        return (self.accumulator_tiles - 1).bit_length()"
   ]
  },
  {
   "cell_type": "code",
   "execution_count": 17,
   "metadata": {},
   "outputs": [
    {
     "data": {
      "text/plain": [
       "3"
      ]
     },
     "execution_count": 17,
     "metadata": {},
     "output_type": "execute_result"
    }
   ],
   "source": [
    "x = 5\n",
    "(x - 1).bit_length()"
   ]
  },
  {
   "cell_type": "code",
   "execution_count": null,
   "metadata": {},
   "outputs": [],
   "source": [
    "config = AcceleratorConfig(\n",
    "    array_size=4,\n",
    "    data_type=BF16,\n",
    "    weight_type=BF16,\n",
    "    accum_type=BF16,\n",
    "    pe_adder=float_adder,\n",
    "    pe_multiplier=lmul_fast,\n",
    "    accum_adder=float_adder,\n",
    "    pipeline=False,\n",
    "    accumulator_tiles=4,\n",
    ")"
   ]
  },
  {
   "cell_type": "code",
   "execution_count": null,
   "metadata": {},
   "outputs": [],
   "source": [
    "# Buffer Input Signals\n",
    "\n",
    "data_start = Input(1, \"data_start\")  # Start data streaming\n",
    "data_bank = Input(1, \"data_bank\")  # Select data memory bank\n",
    "weight_start = Input(1, \"weight_start\")  # Start weight streaming\n",
    "weight_bank = Input(1, \"weight_bank\")  # Select weight memory bank\n",
    "\n",
    "buffer = BufferMemory(\n",
    "    array_size=config.array_size,\n",
    "    data_type=config.data_type,\n",
    "    weight_type=config.weight_type,\n",
    ")\n",
    "\n",
    "buffer.connect_inputs(\n",
    "    data_start=data_start,\n",
    "    data_bank=data_bank,\n",
    "    weight_start=weight_start,\n",
    "    weight_bank=weight_bank,\n",
    ")\n",
    "\n",
    "buffer_outputs = buffer.get_outputs()\n",
    "\n",
    "systolic_array = SystolicArrayDiP(\n",
    "    size=config.array_size,\n",
    "    data_type=config.data_type,\n",
    "    accum_type=config.accum_type,\n",
    "    multiplier=config.pe_multiplier,\n",
    "    adder=config.pe_adder,\n",
    "    pipeline=config.pipeline,\n",
    ")\n",
    "\n",
    "systolic_array.connect_inputs(\n",
    "    weight_enable=buffer_outputs.weight_valid,\n",
    "    weight_inputs=buffer_outputs.weights_out,\n",
    "    data_inputs=buffer_outputs.datas_out,\n",
    "    enable_input=buffer_outputs.data_valid,\n",
    ")\n",
    "\n",
    "\n",
    "acumulator = AccumulatorMemoryBank(\n",
    "    tile_addr_width=config.accum_addr_width,\n",
    "    array_size=config.array_size,\n",
    "    data_type=config.accum_type,\n",
    "    adder=config.accum_adder,\n",
    ")"
   ]
  },
  {
   "cell_type": "code",
   "execution_count": 7,
   "metadata": {},
   "outputs": [],
   "source": []
  },
  {
   "cell_type": "code",
   "execution_count": null,
   "metadata": {},
   "outputs": [],
   "source": []
  }
 ],
 "metadata": {
  "kernelspec": {
   "display_name": "Python 3",
   "language": "python",
   "name": "python3"
  },
  "language_info": {
   "codemirror_mode": {
    "name": "ipython",
    "version": 3
   },
   "file_extension": ".py",
   "mimetype": "text/x-python",
   "name": "python",
   "nbconvert_exporter": "python",
   "pygments_lexer": "ipython3",
   "version": "3.12.8"
  }
 },
 "nbformat": 4,
 "nbformat_minor": 2
}
