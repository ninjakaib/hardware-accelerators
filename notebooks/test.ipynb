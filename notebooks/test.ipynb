{
 "cells": [
  {
   "cell_type": "code",
   "execution_count": 16,
   "metadata": {},
   "outputs": [
    {
     "name": "stdout",
     "output_type": "stream",
     "text": [
      "The autoreload extension is already loaded. To reload it, use:\n",
      "  %reload_ext autoreload\n"
     ]
    }
   ],
   "source": [
    "%load_ext autoreload\n",
    "%autoreload 2"
   ]
  },
  {
   "cell_type": "code",
   "execution_count": 42,
   "metadata": {},
   "outputs": [],
   "source": [
    "import os\n",
    "import pyrtl\n",
    "from hardware_accelerators import Float8, BF16, float_adder, FloatAdderPipelined"
   ]
  },
  {
   "cell_type": "code",
   "execution_count": 44,
   "metadata": {},
   "outputs": [
    {
     "data": {
      "text/plain": [
       "BF16(binary='1100000001100000', decimal=-3.5, decimal_approx=-3.5)"
      ]
     },
     "execution_count": 44,
     "metadata": {},
     "output_type": "execute_result"
    }
   ],
   "source": [
    "pyrtl.reset_working_block()\n",
    "\n",
    "float_a = pyrtl.Input(16, \"float_a\")\n",
    "float_b = pyrtl.Input(16, \"float_b\")\n",
    "float_out = pyrtl.WireVector(16, \"float_out\")\n",
    "\n",
    "float_out <<= float_adder(float_a, float_b, 8, 7)\n",
    "\n",
    "trace = pyrtl.SimulationTrace([float_a, float_b, float_out])\n",
    "sim = pyrtl.Simulation(tracer=trace)\n",
    "\n",
    "sim.step({float_a: BF16(1.5).binint, float_b: BF16(-5).binint})\n",
    "BF16(binint=sim.inspect(float_out))"
   ]
  },
  {
   "cell_type": "code",
   "execution_count": 45,
   "metadata": {},
   "outputs": [
    {
     "data": {
      "text/plain": [
       "Float8(binary='00100001', decimal=0.140625, decimal_approx=0.140625)"
      ]
     },
     "execution_count": 45,
     "metadata": {},
     "output_type": "execute_result"
    }
   ],
   "source": [
    "pyrtl.reset_working_block()\n",
    "\n",
    "float_a = pyrtl.Input(8, \"float_a\")\n",
    "float_b = pyrtl.Input(8, \"float_b\")\n",
    "float_out = pyrtl.WireVector(8, \"float_out\")\n",
    "\n",
    "float_out <<= float_adder(float_a, float_b, 4, 3)\n",
    "\n",
    "trace = pyrtl.SimulationTrace([float_a, float_b, float_out])\n",
    "sim = pyrtl.Simulation(tracer=trace)\n",
    "\n",
    "sim.step({float_a: Float8(0.05).binint, float_b: Float8(0.10).binint})\n",
    "Float8(binint=sim.inspect(float_out))"
   ]
  },
  {
   "cell_type": "code",
   "execution_count": 25,
   "metadata": {},
   "outputs": [
    {
     "data": {
      "text/plain": [
       "Float8(binary='0.1010.011', decimal=11.5, decimal_approx=11.0)"
      ]
     },
     "execution_count": 25,
     "metadata": {},
     "output_type": "execute_result"
    }
   ],
   "source": [
    "Float8(11.5)"
   ]
  },
  {
   "cell_type": "code",
   "execution_count": 10,
   "metadata": {},
   "outputs": [
    {
     "data": {
      "text/plain": [
       "BF16(binary='0011111110111010', decimal=1.456, decimal_approx=1.453125)"
      ]
     },
     "execution_count": 10,
     "metadata": {},
     "output_type": "execute_result"
    }
   ],
   "source": [
    "b = BF16(1.456)\n",
    "b"
   ]
  },
  {
   "cell_type": "code",
   "execution_count": 9,
   "metadata": {},
   "outputs": [
    {
     "data": {
      "text/plain": [
       "BF16(binary='0011111110111010', decimal=1.453125, decimal_approx=1.453125)"
      ]
     },
     "execution_count": 9,
     "metadata": {},
     "output_type": "execute_result"
    }
   ],
   "source": [
    "BF16(binint=b.binint)"
   ]
  },
  {
   "cell_type": "code",
   "execution_count": null,
   "metadata": {},
   "outputs": [],
   "source": [
    "class FloatAdder:\n",
    "    def __init__(\n",
    "        self,\n",
    "    ):\n",
    "        pass"
   ]
  },
  {
   "cell_type": "code",
   "execution_count": null,
   "metadata": {},
   "outputs": [],
   "source": []
  }
 ],
 "metadata": {
  "kernelspec": {
   "display_name": "dsc180",
   "language": "python",
   "name": "python3"
  },
  "language_info": {
   "codemirror_mode": {
    "name": "ipython",
    "version": 3
   },
   "file_extension": ".py",
   "mimetype": "text/x-python",
   "name": "python",
   "nbconvert_exporter": "python",
   "pygments_lexer": "ipython3",
   "version": "3.12.7"
  }
 },
 "nbformat": 4,
 "nbformat_minor": 2
}
