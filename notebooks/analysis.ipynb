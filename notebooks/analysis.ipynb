{
 "cells": [
  {
   "cell_type": "code",
   "execution_count": null,
   "metadata": {},
   "outputs": [],
   "source": [
    "import os\n",
    "import pyrtl\n",
    "from pyrtl import *\n",
    "from typing import Callable, Type\n",
    "from hardware_accelerators.dtypes import *\n",
    "from hardware_accelerators.rtllib import *\n",
    "from hardware_accelerators.rtllib.utils.adder_utils import *\n",
    "from hardware_accelerators.rtllib.utils.multiplier_utils import *\n",
    "from hardware_accelerators.rtllib.utils.common import *"
   ]
  },
  {
   "cell_type": "markdown",
   "metadata": {},
   "source": [
    "# Generating Hardware Blocks for Analysis\n"
   ]
  },
  {
   "cell_type": "code",
   "execution_count": 11,
   "metadata": {},
   "outputs": [],
   "source": [
    "dtype_list = [Float8, BF16, Float32]\n",
    "dtype_map = {8: Float8, 16: BF16, 32: Float32}\n",
    "w_a_pairs = [(8, 8), (8, 16), (8, 32), (16, 16), (16, 32), (32, 32)]\n",
    "w_a_dtypes = [(dtype_map[w], dtype_map[a]) for w, a in w_a_pairs]"
   ]
  },
  {
   "cell_type": "code",
   "execution_count": 12,
   "metadata": {},
   "outputs": [],
   "source": [
    "def create_basic_hardware_block(\n",
    "    fn: Callable[[WireVector, WireVector, Type[BaseFloat]], WireVector],\n",
    "    dtype: Type[BaseFloat],\n",
    "    **kwargs,\n",
    "):\n",
    "    bitwidth = dtype.bitwidth()\n",
    "    a, b = pyrtl.Input(bitwidth, \"a\"), pyrtl.Input(bitwidth, \"b\")\n",
    "    out = pyrtl.Output(bitwidth, \"out\")\n",
    "    out <<= fn(a, b, dtype, **kwargs)"
   ]
  },
  {
   "cell_type": "code",
   "execution_count": 53,
   "metadata": {},
   "outputs": [],
   "source": [
    "def analyze(block: Block | None = None):\n",
    "    if block is not None:\n",
    "        pyrtl.set_working_block(block)\n",
    "    pyrtl.synthesize()\n",
    "    pyrtl.optimize()\n",
    "    timing = pyrtl.TimingAnalysis()\n",
    "    delay = timing.max_length()\n",
    "    print(f\"\\nest. max delay: {delay:.2f} ps\")\n",
    "    print(f\"est. max freq: {timing.max_freq():.2f} MHz\")\n",
    "    print(f\"est. area: {pyrtl.area_estimation()}\\n\\n\")"
   ]
  },
  {
   "cell_type": "markdown",
   "metadata": {},
   "source": [
    "## Adders\n"
   ]
  },
  {
   "cell_type": "code",
   "execution_count": 108,
   "metadata": {},
   "outputs": [],
   "source": [
    "def create_inputs(*bitwidths):\n",
    "    return (pyrtl.Input(bitwidth) for bitwidth in bitwidths)\n",
    "\n",
    "\n",
    "def create_outputs(*args):\n",
    "    for wire in args:\n",
    "        out = pyrtl.Output(len(wire))\n",
    "        out <<= wire\n",
    "\n",
    "\n",
    "def create_pipelined_adder(dtype: Type[BaseFloat], fast: bool = False):\n",
    "    a, b = pyrtl.Input(dtype.bitwidth(), \"a\"), pyrtl.Input(dtype.bitwidth(), \"b\")\n",
    "    w_en = pyrtl.Input(1, \"w_en\")\n",
    "    out = pyrtl.Output(dtype.bitwidth(), \"out\")\n",
    "    adder = FloatAdderPipelined(a, b, w_en, dtype, fast)\n",
    "    out <<= adder.result\n",
    "\n",
    "\n",
    "def create_adder_blocks(dtype: Type[BaseFloat], fast: bool = False) -> dict[str, Block]:\n",
    "    bits = dtype.bitwidth()\n",
    "    e_bits, m_bits = dtype.exponent_bits(), dtype.mantissa_bits()\n",
    "\n",
    "    combinational_block = pyrtl.Block()\n",
    "    adder_block = pyrtl.Block()\n",
    "    stage_2_block = pyrtl.Block()\n",
    "    stage_3_block = pyrtl.Block()\n",
    "    stage_4_block = pyrtl.Block()\n",
    "    stage_5_block = pyrtl.Block()\n",
    "\n",
    "    # Combinational design\n",
    "    with set_working_block(combinational_block):\n",
    "        create_outputs(*float_adder(*create_inputs(bits, bits), dtype=dtype, fast=fast))\n",
    "\n",
    "    # Complete pipelined design\n",
    "    with set_working_block(adder_block):\n",
    "        create_pipelined_adder(dtype, fast)\n",
    "\n",
    "    # Stages 1 & 2\n",
    "    with set_working_block(stage_2_block):\n",
    "        float_components = extract_float_components(\n",
    "            *create_inputs(bits, bits),\n",
    "            e_bits=e_bits,\n",
    "            m_bits=m_bits,\n",
    "        )\n",
    "        stage_2_outputs = adder_stage_2(\n",
    "            *float_components,\n",
    "            e_bits,\n",
    "            m_bits,\n",
    "            fast,\n",
    "        )\n",
    "        create_outputs(*stage_2_outputs)\n",
    "\n",
    "    # Stage 3\n",
    "    with set_working_block(stage_3_block):\n",
    "        # Perform alignment and generate SGR bits\n",
    "        stage_3_outputs = adder_stage_3(\n",
    "            *create_inputs(m_bits + 1, e_bits),\n",
    "            e_bits=e_bits,\n",
    "            m_bits=m_bits,\n",
    "        )\n",
    "        create_outputs(*stage_3_outputs)\n",
    "\n",
    "    # Stage 4\n",
    "    with set_working_block(stage_4_block):\n",
    "        # Perform mantissa addition and leading zero detection\n",
    "        stage_4_outputs = adder_stage_4(\n",
    "            *create_inputs(m_bits + 1, m_bits + 1, 1), m_bits=m_bits, fast=fast\n",
    "        )\n",
    "        create_outputs(*stage_4_outputs)\n",
    "\n",
    "    # Stage 5\n",
    "    with set_working_block(stage_5_block):\n",
    "        # Perform normalization, rounding, and final assembly\n",
    "        stage_5_outputs = adder_stage_5(\n",
    "            *create_inputs(\n",
    "                m_bits + 2,  # abs_mantissa: m_bits + 2 wide\n",
    "                1,  # sticky_bit: 1 bit\n",
    "                1,  # guard_bit: 1 bit\n",
    "                1,  # round_bit: 1 bit\n",
    "                4,  # lzc: 4 bits wide\n",
    "                e_bits,  # exp_larger: e_bits wide\n",
    "                1,  # sign_a: 1 bit\n",
    "                1,  # sign_b: 1 bit\n",
    "                e_bits + 1,  # exp_diff: e_bits + 1 wide\n",
    "                1,  # is_neg: 1 bit\n",
    "            ),\n",
    "            e_bits=e_bits,\n",
    "            m_bits=m_bits,\n",
    "        )\n",
    "        create_outputs(*stage_5_outputs)\n",
    "\n",
    "    # Return all the generated blocks for analysis\n",
    "    return {\n",
    "        \"combinational\": combinational_block,\n",
    "        \"adder\": adder_block,\n",
    "        \"stage_2\": stage_2_block,\n",
    "        \"stage_3\": stage_3_block,\n",
    "        \"stage_4\": stage_4_block,\n",
    "        \"stage_5\": stage_5_block,\n",
    "    }"
   ]
  },
  {
   "cell_type": "code",
   "execution_count": 109,
   "metadata": {},
   "outputs": [
    {
     "name": "stdout",
     "output_type": "stream",
     "text": [
      "\n",
      "est. max delay: 1944.98 ps\n",
      "est. max freq: 429.56 MHz\n",
      "est. area: (0.001515888, 0)\n",
      "\n",
      "\n"
     ]
    }
   ],
   "source": [
    "temp_working_block()\n",
    "m_bits = BF16.mantissa_bits()\n",
    "\n",
    "create_outputs(\n",
    "    *add_sub_mantissas(\n",
    "        *create_inputs(m_bits + 1, m_bits + 1, 1), m_bits=m_bits, fast=True\n",
    "    )\n",
    ")\n",
    "analyze()"
   ]
  },
  {
   "cell_type": "code",
   "execution_count": null,
   "metadata": {},
   "outputs": [
    {
     "name": "stdout",
     "output_type": "stream",
     "text": [
      "\n",
      "est. max delay: 3862.15 ps\n",
      "est. max freq: 235.56 MHz\n",
      "est. area: (0.002212848, 0)\n",
      "\n",
      "\n"
     ]
    }
   ],
   "source": [
    "temp_working_block()\n",
    "m_bits = BF16.mantissa_bits()\n",
    "\n",
    "create_outputs(\n",
    "    *adder_stage_4(*create_inputs(m_bits + 1, m_bits + 1, 1), m_bits=m_bits, fast=True)\n",
    ")\n",
    "analyze()"
   ]
  },
  {
   "cell_type": "code",
   "execution_count": 110,
   "metadata": {},
   "outputs": [
    {
     "name": "stdout",
     "output_type": "stream",
     "text": [
      "Analyzing combinational block:\n",
      "\n",
      "est. max delay: 10181.66 ps\n",
      "est. max freq: 94.66 MHz\n",
      "est. area: (0.007849512, 0)\n",
      "\n",
      "\n",
      "Analyzing adder block:\n",
      "\n",
      "est. max delay: 3862.15 ps\n",
      "est. max freq: 235.56 MHz\n",
      "est. area: (0.0127561104, 0)\n",
      "\n",
      "\n",
      "Analyzing stage_2 block:\n",
      "\n",
      "est. max delay: 1619.71 ps\n",
      "est. max freq: 499.32 MHz\n",
      "est. area: (0.001942776, 0)\n",
      "\n",
      "\n",
      "Analyzing stage_3 block:\n",
      "\n",
      "est. max delay: 3090.40 ps\n",
      "est. max freq: 287.90 MHz\n",
      "est. area: (0.001724976, 0)\n",
      "\n",
      "\n",
      "Analyzing stage_4 block:\n",
      "\n",
      "est. max delay: 3862.15 ps\n",
      "est. max freq: 235.56 MHz\n",
      "est. area: (0.002212848, 0)\n",
      "\n",
      "\n",
      "Analyzing stage_5 block:\n",
      "\n",
      "est. max delay: 2499.24 ps\n",
      "est. max freq: 346.95 MHz\n",
      "est. area: (0.001986336, 0)\n",
      "\n",
      "\n"
     ]
    }
   ],
   "source": [
    "adder_blocks = create_adder_blocks(BF16, fast=True)\n",
    "\n",
    "for name, block in adder_blocks.items():\n",
    "    print(f\"Analyzing {name} block:\")\n",
    "    analyze(block)"
   ]
  },
  {
   "cell_type": "code",
   "execution_count": 107,
   "metadata": {},
   "outputs": [
    {
     "name": "stdout",
     "output_type": "stream",
     "text": [
      "\n",
      "est. max delay: 3862.15 ps\n",
      "est. max freq: 235.56 MHz\n",
      "est. area: (0.0127561104, 0)\n",
      "\n",
      "\n"
     ]
    }
   ],
   "source": [
    "reset_working_block()\n",
    "\n",
    "create_pipelined_adder(BF16, True)\n",
    "analyze()"
   ]
  },
  {
   "cell_type": "markdown",
   "metadata": {},
   "source": [
    "# Multipliers\n"
   ]
  },
  {
   "cell_type": "code",
   "execution_count": 113,
   "metadata": {},
   "outputs": [],
   "source": [
    "def create_multiplier_blocks(\n",
    "    dtype: Type[BaseFloat], fast: bool = False\n",
    ") -> dict[str, Block]:\n",
    "    bits = dtype.bitwidth()\n",
    "    e_bits, m_bits = dtype.exponent_bits(), dtype.mantissa_bits()\n",
    "\n",
    "    combinational_block = pyrtl.Block()\n",
    "    multiplier_block = pyrtl.Block()\n",
    "    stage_2_block = pyrtl.Block()\n",
    "    stage_3_block = pyrtl.Block()\n",
    "    stage_4_block = pyrtl.Block()\n",
    "\n",
    "    # Combinational design\n",
    "    with set_working_block(combinational_block):\n",
    "        create_outputs(\n",
    "            float_multiplier(*create_inputs(bits, bits), dtype=dtype, fast=fast)\n",
    "        )\n",
    "\n",
    "    # Complete pipelined design\n",
    "    with set_working_block(multiplier_block):\n",
    "        multiplier = FloatMultiplierPipelined(\n",
    "            *create_inputs(bits, bits), dtype=dtype, fast=fast\n",
    "        )\n",
    "        create_outputs(multiplier._result)\n",
    "\n",
    "    # Stage 1 & 2: Extract components and calculate sign, exponent sum, mantissa product\n",
    "    with set_working_block(stage_2_block):\n",
    "        float_components = extract_float_components(\n",
    "            *create_inputs(bits, bits),\n",
    "            e_bits=e_bits,\n",
    "            m_bits=m_bits,\n",
    "        )\n",
    "        stage_2_outputs = multiplier_stage_2(\n",
    "            *float_components,\n",
    "            m_bits,\n",
    "            fast,\n",
    "        )\n",
    "        create_outputs(*stage_2_outputs)\n",
    "\n",
    "    # Stage 3: Leading zero detection and exponent adjustment\n",
    "    with set_working_block(stage_3_block):\n",
    "        stage_3_outputs = multiplier_stage_3(\n",
    "            *create_inputs(e_bits + 1, 2 * m_bits + 2),  # exp_sum, mantissa_product\n",
    "            e_bits=e_bits,\n",
    "            m_bits=m_bits,\n",
    "            fast=fast,\n",
    "        )\n",
    "        create_outputs(*stage_3_outputs)\n",
    "\n",
    "    # Stage 4: Normalization, rounding, and final assembly\n",
    "    with set_working_block(stage_4_block):\n",
    "        stage_4_outputs = multiplier_stage_4(\n",
    "            *create_inputs(\n",
    "                e_bits,  # unbiased_exp\n",
    "                e_bits,  # leading_zeros\n",
    "                2 * m_bits + 2,  # mantissa_product\n",
    "            ),\n",
    "            m_bits=m_bits,\n",
    "            e_bits=e_bits,\n",
    "            fast=fast,\n",
    "        )\n",
    "        create_outputs(*stage_4_outputs)\n",
    "\n",
    "    # Return all the generated blocks for analysis\n",
    "    return {\n",
    "        \"combinational\": combinational_block,\n",
    "        \"multiplier\": multiplier_block,\n",
    "        \"stage_2\": stage_2_block,\n",
    "        \"stage_3\": stage_3_block,\n",
    "        \"stage_4\": stage_4_block,\n",
    "    }"
   ]
  },
  {
   "cell_type": "code",
   "execution_count": 117,
   "metadata": {},
   "outputs": [
    {
     "name": "stdout",
     "output_type": "stream",
     "text": [
      "Analyzing combinational block:\n",
      "\n",
      "est. max delay: 4906.51 ps\n",
      "est. max freq: 189.05 MHz\n",
      "est. area: (0.003023064, 0)\n",
      "\n",
      "\n",
      "Analyzing multiplier block:\n",
      "\n",
      "est. max delay: 1828.47 ps\n",
      "est. max freq: 452.19 MHz\n",
      "est. area: (0.0038001744, 0)\n",
      "\n",
      "\n",
      "Analyzing stage_2 block:\n",
      "\n",
      "est. max delay: 1394.44 ps\n",
      "est. max freq: 562.61 MHz\n",
      "est. area: (0.001062864, 0)\n",
      "\n",
      "\n",
      "Analyzing stage_3 block:\n",
      "\n",
      "est. max delay: 1585.10 ps\n",
      "est. max freq: 508.10 MHz\n",
      "est. area: (0.000670824, 0)\n",
      "\n",
      "\n",
      "Analyzing stage_4 block:\n",
      "\n",
      "est. max delay: 1828.47 ps\n",
      "est. max freq: 452.19 MHz\n",
      "est. area: (0.001210968, 0)\n",
      "\n",
      "\n"
     ]
    }
   ],
   "source": [
    "multiplier_blocks = create_multiplier_blocks(Float8, fast=True)\n",
    "\n",
    "for name, block in multiplier_blocks.items():\n",
    "    print(f\"Analyzing {name} block:\")\n",
    "    analyze(block)"
   ]
  },
  {
   "cell_type": "code",
   "execution_count": null,
   "metadata": {},
   "outputs": [],
   "source": []
  }
 ],
 "metadata": {
  "kernelspec": {
   "display_name": "dsc180",
   "language": "python",
   "name": "python3"
  },
  "language_info": {
   "codemirror_mode": {
    "name": "ipython",
    "version": 3
   },
   "file_extension": ".py",
   "mimetype": "text/x-python",
   "name": "python",
   "nbconvert_exporter": "python",
   "pygments_lexer": "ipython3",
   "version": "3.12.7"
  }
 },
 "nbformat": 4,
 "nbformat_minor": 2
}
