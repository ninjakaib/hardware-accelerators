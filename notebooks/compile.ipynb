{
 "cells": [
  {
   "cell_type": "code",
   "execution_count": null,
   "metadata": {},
   "outputs": [],
   "source": [
    "from pyrtl import CompiledSimulation, reset_working_block\n",
    "from hardware_accelerators import *\n",
    "from hardware_accelerators.simulation.compile import (\n",
    "    ReusableCompiledSimulation,\n",
    "    CompiledAccelerator,\n",
    ")\n",
    "from hardware_accelerators.simulation.compile import CompiledAcceleratorSimulator\n",
    "from hardware_accelerators.rtllib.accelerator import CompiledAcceleratorConfig"
   ]
  },
  {
   "cell_type": "code",
   "execution_count": 2,
   "metadata": {},
   "outputs": [],
   "source": [
    "CHUNK_SIZE = 4\n",
    "\n",
    "config = CompiledAcceleratorConfig(\n",
    "    array_size=CHUNK_SIZE,\n",
    "    activation_type=BF16,\n",
    "    weight_type=BF16,\n",
    "    multiplier=float_multiplier,\n",
    ")"
   ]
  },
  {
   "cell_type": "code",
   "execution_count": 3,
   "metadata": {},
   "outputs": [],
   "source": [
    "reset_working_block()"
   ]
  },
  {
   "cell_type": "code",
   "execution_count": 4,
   "metadata": {},
   "outputs": [],
   "source": [
    "acc_sim = CompiledAcceleratorSimulator(config)"
   ]
  },
  {
   "cell_type": "code",
   "execution_count": 10,
   "metadata": {},
   "outputs": [
    {
     "name": "stderr",
     "output_type": "stream",
     "text": [
      "Exception ignored in: <function CompiledSimulation.__del__ at 0x116aec7c0>\n",
      "Traceback (most recent call last):\n",
      "  File \"/opt/homebrew/Caskroom/miniconda/base/envs/dsc180/lib/python3.12/site-packages/pyrtl/compilesim.py\", line 888, in __del__\n",
      "AttributeError: 'ReusableCompiledSimulation' object has no attribute '_dll'\n"
     ]
    }
   ],
   "source": [
    "loaded_sim = CompiledAcceleratorSimulator(\"wb16ab16s4\")"
   ]
  },
  {
   "cell_type": "code",
   "execution_count": 11,
   "metadata": {},
   "outputs": [
    {
     "ename": "PyrtlError",
     "evalue": "No context available. Please run a simulation step",
     "output_type": "error",
     "traceback": [
      "\u001b[0;31m---------------------------------------------------------------------------\u001b[0m",
      "\u001b[0;31mPyrtlError\u001b[0m                                Traceback (most recent call last)",
      "Cell \u001b[0;32mIn[11], line 1\u001b[0m\n\u001b[0;32m----> 1\u001b[0m \u001b[43mloaded_sim\u001b[49m\u001b[38;5;241;43m.\u001b[39;49m\u001b[43minspect_outputs\u001b[49m\u001b[43m(\u001b[49m\u001b[43m)\u001b[49m\n",
      "File \u001b[0;32m~/UCSD/dsc180b/hardware-accelerators/hardware_accelerators/simulation/compile.py:331\u001b[0m, in \u001b[0;36mCompiledAcceleratorSimulator.inspect_outputs\u001b[0;34m(self)\u001b[0m\n\u001b[1;32m    326\u001b[0m \u001b[38;5;28;01mdef\u001b[39;00m \u001b[38;5;21minspect_outputs\u001b[39m(\u001b[38;5;28mself\u001b[39m):\n\u001b[1;32m    327\u001b[0m \u001b[38;5;250m    \u001b[39m\u001b[38;5;124;03m\"\"\"Get current output values converted to floating point\"\"\"\u001b[39;00m\n\u001b[1;32m    328\u001b[0m     \u001b[38;5;28;01mreturn\u001b[39;00m np\u001b[38;5;241m.\u001b[39marray(\n\u001b[1;32m    329\u001b[0m         [\n\u001b[1;32m    330\u001b[0m             \u001b[38;5;28mself\u001b[39m\u001b[38;5;241m.\u001b[39mconfig\u001b[38;5;241m.\u001b[39mactivation_type(\n\u001b[0;32m--> 331\u001b[0m                 binint\u001b[38;5;241m=\u001b[39m\u001b[38;5;28;43mself\u001b[39;49m\u001b[38;5;241;43m.\u001b[39;49m\u001b[43msim\u001b[49m\u001b[38;5;241;43m.\u001b[39;49m\u001b[43minspect\u001b[49m\u001b[43m(\u001b[49m\u001b[43mout\u001b[49m\u001b[38;5;241;43m.\u001b[39;49m\u001b[43mname\u001b[49m\u001b[43m)\u001b[49m\n\u001b[1;32m    332\u001b[0m             )\u001b[38;5;241m.\u001b[39mdecimal_approx\n\u001b[1;32m    333\u001b[0m             \u001b[38;5;28;01mfor\u001b[39;00m out \u001b[38;5;129;01min\u001b[39;00m \u001b[38;5;28mself\u001b[39m\u001b[38;5;241m.\u001b[39moutput_wires\n\u001b[1;32m    334\u001b[0m         ]\n\u001b[1;32m    335\u001b[0m     )\n",
      "File \u001b[0;32m/opt/homebrew/Caskroom/miniconda/base/envs/dsc180/lib/python3.12/site-packages/pyrtl/compilesim.py:152\u001b[0m, in \u001b[0;36mCompiledSimulation.inspect\u001b[0;34m(self, w)\u001b[0m\n\u001b[1;32m    150\u001b[0m \u001b[38;5;28;01melse\u001b[39;00m:\n\u001b[1;32m    151\u001b[0m     \u001b[38;5;28;01mif\u001b[39;00m \u001b[38;5;129;01mnot\u001b[39;00m vals:\n\u001b[0;32m--> 152\u001b[0m         \u001b[38;5;28;01mraise\u001b[39;00m PyrtlError(\u001b[38;5;124m'\u001b[39m\u001b[38;5;124mNo context available. Please run a simulation step\u001b[39m\u001b[38;5;124m'\u001b[39m)\n\u001b[1;32m    153\u001b[0m     \u001b[38;5;28;01mreturn\u001b[39;00m vals[\u001b[38;5;241m-\u001b[39m\u001b[38;5;241m1\u001b[39m]\n\u001b[1;32m    154\u001b[0m \u001b[38;5;28;01mraise\u001b[39;00m PyrtlError(\u001b[38;5;124m'\u001b[39m\u001b[38;5;124mCompiledSimulation does not support inspecting internal WireVectors\u001b[39m\u001b[38;5;124m'\u001b[39m)\n",
      "\u001b[0;31mPyrtlError\u001b[0m: No context available. Please run a simulation step"
     ]
    }
   ],
   "source": [
    "loaded_sim.inspect_outputs()"
   ]
  },
  {
   "cell_type": "code",
   "execution_count": null,
   "metadata": {},
   "outputs": [],
   "source": []
  }
 ],
 "metadata": {
  "kernelspec": {
   "display_name": "dsc180",
   "language": "python",
   "name": "python3"
  },
  "language_info": {
   "codemirror_mode": {
    "name": "ipython",
    "version": 3
   },
   "file_extension": ".py",
   "mimetype": "text/x-python",
   "name": "python",
   "nbconvert_exporter": "python",
   "pygments_lexer": "ipython3",
   "version": "3.12.7"
  }
 },
 "nbformat": 4,
 "nbformat_minor": 2
}
