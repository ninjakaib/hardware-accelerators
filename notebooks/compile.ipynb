{
 "cells": [
  {
   "cell_type": "code",
   "execution_count": 17,
   "metadata": {},
   "outputs": [],
   "source": [
    "from pyrtl import CompiledSimulation, reset_working_block\n",
    "import torch\n",
    "from torchvision import datasets, transforms\n",
    "from torch.utils.data import DataLoader\n",
    "from hardware_accelerators import *\n",
    "from hardware_accelerators.simulation.compile import (\n",
    "    ReusableCompiledSimulation,\n",
    "    CompiledAccelerator,\n",
    ")\n",
    "from hardware_accelerators.simulation.compile import CompiledAcceleratorSimulator\n",
    "from hardware_accelerators.rtllib.accelerator import CompiledAcceleratorConfig\n",
    "from hardware_accelerators.nn import load_model"
   ]
  },
  {
   "cell_type": "code",
   "execution_count": 18,
   "metadata": {},
   "outputs": [],
   "source": [
    "# Data transformation: convert images to tensor and normalize them\n",
    "transform = transforms.Compose(\n",
    "    [\n",
    "        transforms.ToTensor(),\n",
    "        transforms.Normalize((0.1307,), (0.3081,)),\n",
    "    ]\n",
    ")\n",
    "# Download MNIST test data\n",
    "test_dataset = datasets.MNIST(\n",
    "    root=\"./data\", train=False, download=True, transform=transform\n",
    ")\n",
    "test_loader = DataLoader(test_dataset, batch_size=1, shuffle=False)\n",
    "\n",
    "\n",
    "def get_batch(batch_size):\n",
    "    loader = DataLoader(test_dataset, batch_size=batch_size, shuffle=False)\n",
    "    batch, labels = next(iter(loader))\n",
    "    return batch.reshape(batch_size, -1).numpy(), labels.numpy()\n",
    "\n",
    "\n",
    "def get_activation():\n",
    "    image, _ = next(iter(test_loader))\n",
    "    image = image.detach().numpy().reshape(-1)\n",
    "    return image"
   ]
  },
  {
   "cell_type": "code",
   "execution_count": 19,
   "metadata": {},
   "outputs": [],
   "source": [
    "CHUNK_SIZE = 4\n",
    "\n",
    "config = CompiledAcceleratorConfig(\n",
    "    array_size=CHUNK_SIZE,\n",
    "    activation_type=BF16,\n",
    "    weight_type=BF16,\n",
    "    multiplier=float_multiplier,\n",
    ")"
   ]
  },
  {
   "cell_type": "code",
   "execution_count": 20,
   "metadata": {},
   "outputs": [],
   "source": [
    "reset_working_block()"
   ]
  },
  {
   "cell_type": "code",
   "execution_count": 21,
   "metadata": {},
   "outputs": [
    {
     "name": "stderr",
     "output_type": "stream",
     "text": [
      "/Users/kaibreese/UCSD/dsc180b/hardware-accelerators/hardware_accelerators/nn/util.py:31: FutureWarning: You are using `torch.load` with `weights_only=False` (the current default value), which uses the default pickle module implicitly. It is possible to construct malicious pickle data which will execute arbitrary code during unpickling (See https://github.com/pytorch/pytorch/blob/main/SECURITY.md#untrusted-models for more details). In a future release, the default value for `weights_only` will be flipped to `True`. This limits the functions that could be executed during unpickling. Arbitrary objects will no longer be allowed to be loaded via this mode unless they are explicitly allowlisted by the user via `torch.serialization.add_safe_globals`. We recommend you start setting `weights_only=True` for any use case where you don't have full control of the loaded file. Please open an issue on GitHub for any issues related to this experimental feature.\n",
      "  model.load_state_dict(torch.load(model_path, map_location=device))\n"
     ]
    },
    {
     "name": "stdout",
     "output_type": "stream",
     "text": [
      "Using precompiled library: /Users/kaibreese/UCSD/dsc180b/hardware-accelerators/hardware_accelerators/lib/wb16ab16s4/pyrtlsim.so\n"
     ]
    }
   ],
   "source": [
    "model = load_model(\"models/mlp_mnist.pth\")\n",
    "acc_sim = CompiledAcceleratorSimulator(config)"
   ]
  },
  {
   "cell_type": "code",
   "execution_count": 24,
   "metadata": {},
   "outputs": [
    {
     "data": {
      "text/plain": [
       "array([1.87383124e-06, 1.87383124e-06, 1.87383124e-06, 6.69541272e-06,\n",
       "       1.87383124e-06, 1.87383124e-06, 1.87383124e-06, 9.99974566e-01,\n",
       "       1.87383124e-06, 1.87383124e-06, 1.87383124e-06, 1.87383124e-06])"
      ]
     },
     "execution_count": 24,
     "metadata": {},
     "output_type": "execute_result"
    }
   ],
   "source": [
    "results = acc_sim.run_mlp(model, get_activation())\n",
    "results"
   ]
  },
  {
   "cell_type": "code",
   "execution_count": 26,
   "metadata": {},
   "outputs": [
    {
     "data": {
      "text/plain": [
       "tensor(7)"
      ]
     },
     "execution_count": 26,
     "metadata": {},
     "output_type": "execute_result"
    }
   ],
   "source": [
    "torch.argmax(torch.Tensor(results))"
   ]
  },
  {
   "cell_type": "code",
   "execution_count": 11,
   "metadata": {},
   "outputs": [
    {
     "ename": "PyrtlError",
     "evalue": "No context available. Please run a simulation step",
     "output_type": "error",
     "traceback": [
      "\u001b[0;31m---------------------------------------------------------------------------\u001b[0m",
      "\u001b[0;31mPyrtlError\u001b[0m                                Traceback (most recent call last)",
      "Cell \u001b[0;32mIn[11], line 1\u001b[0m\n\u001b[0;32m----> 1\u001b[0m \u001b[43mloaded_sim\u001b[49m\u001b[38;5;241;43m.\u001b[39;49m\u001b[43minspect_outputs\u001b[49m\u001b[43m(\u001b[49m\u001b[43m)\u001b[49m\n",
      "File \u001b[0;32m~/UCSD/dsc180b/hardware-accelerators/hardware_accelerators/simulation/compile.py:331\u001b[0m, in \u001b[0;36mCompiledAcceleratorSimulator.inspect_outputs\u001b[0;34m(self)\u001b[0m\n\u001b[1;32m    326\u001b[0m \u001b[38;5;28;01mdef\u001b[39;00m \u001b[38;5;21minspect_outputs\u001b[39m(\u001b[38;5;28mself\u001b[39m):\n\u001b[1;32m    327\u001b[0m \u001b[38;5;250m    \u001b[39m\u001b[38;5;124;03m\"\"\"Get current output values converted to floating point\"\"\"\u001b[39;00m\n\u001b[1;32m    328\u001b[0m     \u001b[38;5;28;01mreturn\u001b[39;00m np\u001b[38;5;241m.\u001b[39marray(\n\u001b[1;32m    329\u001b[0m         [\n\u001b[1;32m    330\u001b[0m             \u001b[38;5;28mself\u001b[39m\u001b[38;5;241m.\u001b[39mconfig\u001b[38;5;241m.\u001b[39mactivation_type(\n\u001b[0;32m--> 331\u001b[0m                 binint\u001b[38;5;241m=\u001b[39m\u001b[38;5;28;43mself\u001b[39;49m\u001b[38;5;241;43m.\u001b[39;49m\u001b[43msim\u001b[49m\u001b[38;5;241;43m.\u001b[39;49m\u001b[43minspect\u001b[49m\u001b[43m(\u001b[49m\u001b[43mout\u001b[49m\u001b[38;5;241;43m.\u001b[39;49m\u001b[43mname\u001b[49m\u001b[43m)\u001b[49m\n\u001b[1;32m    332\u001b[0m             )\u001b[38;5;241m.\u001b[39mdecimal_approx\n\u001b[1;32m    333\u001b[0m             \u001b[38;5;28;01mfor\u001b[39;00m out \u001b[38;5;129;01min\u001b[39;00m \u001b[38;5;28mself\u001b[39m\u001b[38;5;241m.\u001b[39moutput_wires\n\u001b[1;32m    334\u001b[0m         ]\n\u001b[1;32m    335\u001b[0m     )\n",
      "File \u001b[0;32m/opt/homebrew/Caskroom/miniconda/base/envs/dsc180/lib/python3.12/site-packages/pyrtl/compilesim.py:152\u001b[0m, in \u001b[0;36mCompiledSimulation.inspect\u001b[0;34m(self, w)\u001b[0m\n\u001b[1;32m    150\u001b[0m \u001b[38;5;28;01melse\u001b[39;00m:\n\u001b[1;32m    151\u001b[0m     \u001b[38;5;28;01mif\u001b[39;00m \u001b[38;5;129;01mnot\u001b[39;00m vals:\n\u001b[0;32m--> 152\u001b[0m         \u001b[38;5;28;01mraise\u001b[39;00m PyrtlError(\u001b[38;5;124m'\u001b[39m\u001b[38;5;124mNo context available. Please run a simulation step\u001b[39m\u001b[38;5;124m'\u001b[39m)\n\u001b[1;32m    153\u001b[0m     \u001b[38;5;28;01mreturn\u001b[39;00m vals[\u001b[38;5;241m-\u001b[39m\u001b[38;5;241m1\u001b[39m]\n\u001b[1;32m    154\u001b[0m \u001b[38;5;28;01mraise\u001b[39;00m PyrtlError(\u001b[38;5;124m'\u001b[39m\u001b[38;5;124mCompiledSimulation does not support inspecting internal WireVectors\u001b[39m\u001b[38;5;124m'\u001b[39m)\n",
      "\u001b[0;31mPyrtlError\u001b[0m: No context available. Please run a simulation step"
     ]
    }
   ],
   "source": [
    "loaded_sim.inspect_outputs()"
   ]
  },
  {
   "cell_type": "code",
   "execution_count": null,
   "metadata": {},
   "outputs": [],
   "source": []
  }
 ],
 "metadata": {
  "kernelspec": {
   "display_name": "dsc180",
   "language": "python",
   "name": "python3"
  },
  "language_info": {
   "codemirror_mode": {
    "name": "ipython",
    "version": 3
   },
   "file_extension": ".py",
   "mimetype": "text/x-python",
   "name": "python",
   "nbconvert_exporter": "python",
   "pygments_lexer": "ipython3",
   "version": "3.12.7"
  }
 },
 "nbformat": 4,
 "nbformat_minor": 2
}
